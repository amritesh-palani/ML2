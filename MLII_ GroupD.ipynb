{
 "cells": [
  {
   "cell_type": "markdown",
   "metadata": {},
   "source": [
    "# Pump It Up Data Mining the Water Table"
   ]
  },
  {
   "cell_type": "markdown",
   "metadata": {},
   "source": [
    "## Content:\n",
    "1. [Introduction](#first-bullet)\n",
    "2. [Data Overview](#second-bullet)\n",
    "    * [Loading Datasets](#second1-bullet)\n",
    "    * [Changing Data Type](#second2-bullet)\n",
    "    * [Data Profile](#second3-bullet)\n",
    "* [Data Cleaning](#third-bullet)\n",
    "    * [Handeling Outliers](#third1-bullet)\n",
    "    * [Handeling Missing Values](#third2-bullet)\n",
    "        * [Binning](#third21-bullet)\n",
    "        * [Kmode Clustering](#third22-bullet)\n",
    "        * [Missing Value Imputation](#third23-bullet)\n",
    "* [Data Exploration](#forth-bullet)\n",
    "    * [More Data Cleaning](#forth1-bullet)\n",
    "* [Dataset Balance](#fifth-bullet)\n",
    "* [Train and Validation Split](#six-bullet)\n",
    "* [Feature Engineering]\n",
    "    * [PCA]\n",
    "* [Modeling- Random Forest]\n",
    "    * [LDA]\n",
    "    * [Baseline Model]\n",
    "* [Modeling- SVM]\n",
    "* `[The Pipeline](#fifth-bullet)\n"
   ]
  },
  {
   "cell_type": "code",
   "execution_count": 9,
   "metadata": {},
   "outputs": [],
   "source": [
    "# pip install pandas-profiling[notebook,html]\n",
    "# pip install kmodes\n",
    "# pip install --upgrade kmodes"
   ]
  },
  {
   "cell_type": "code",
   "execution_count": 10,
   "metadata": {},
   "outputs": [
    {
     "data": {
      "text/html": [
       "<style>\n",
       ".output {\n",
       "    flex-direction: column;\n",
       "}\n",
       "</style>"
      ],
      "text/plain": [
       "<IPython.core.display.HTML object>"
      ]
     },
     "execution_count": 10,
     "metadata": {},
     "output_type": "execute_result"
    }
   ],
   "source": [
    "import sklearn\n",
    "import numpy as np\n",
    "import pandas as pd\n",
    "import matplotlib as mpl\n",
    "import matplotlib.pyplot as plt\n",
    "%matplotlib inline\n",
    "from IPython.display import display, Markdown\n",
    "import seaborn as sns\n",
    "import matplotlib.pyplot as plt\n",
    "from pandas_profiling import ProfileReport\n",
    "from kmodes.kmodes import KModes\n",
    "from sklearn.model_selection import KFold\n",
    "from sklearn.utils import resample ##\n",
    "from sklearn.linear_model import LogisticRegression\n",
    "from sklearn.metrics import accuracy_score\n",
    "from sklearn import svm\n",
    "\n",
    "\n",
    "from IPython.display import display, HTML\n",
    "\n",
    "CSS = \"\"\"\n",
    ".output {\n",
    "    flex-direction: column;\n",
    "}\n",
    "\"\"\"\n",
    "\n",
    "HTML('<style>{}</style>'.format(CSS))"
   ]
  },
  {
   "cell_type": "markdown",
   "metadata": {},
   "source": [
    "## 1. Introduction <a class=\"anchor\" id=\"first-bullet\"></a>"
   ]
  },
  {
   "cell_type": "markdown",
   "metadata": {},
   "source": [
    "This project, using data from Taarifa and the Tanzanian Ministry of Water, predicts which water pumps are functional, which need some repairs, and which don't work at all. As such, this is a multi-class classification problem.\n",
    "\n",
    "The aim is to provide insight as to which waterpoint might fail and which variables are able to strongly predict this to improve maintainace and ensure clean and portable water is available to communities in Tanzania."
   ]
  },
  {
   "cell_type": "markdown",
   "metadata": {},
   "source": [
    "## 2. Data Overview "
   ]
  },
  {
   "cell_type": "markdown",
   "metadata": {},
   "source": [
    "   ### 2.1. Loading Datasets <a class=\"anchor\" id=\"second1-bullet\"></a>"
   ]
  },
  {
   "cell_type": "code",
   "execution_count": 11,
   "metadata": {},
   "outputs": [
    {
     "data": {
      "text/markdown": [
       "There are 59400 observations in training set, and 14850 observations in the test set:74250 observations in total."
      ],
      "text/plain": [
       "<IPython.core.display.Markdown object>"
      ]
     },
     "metadata": {},
     "output_type": "display_data"
    },
    {
     "data": {
      "text/markdown": [
       "There are 42 variables in training dataset including the target variable."
      ],
      "text/plain": [
       "<IPython.core.display.Markdown object>"
      ]
     },
     "metadata": {},
     "output_type": "display_data"
    }
   ],
   "source": [
    "training_label = pd.read_csv(\"data/0bf8bc6e-30d0-4c50-956a-603fc693d966.csv\")\n",
    "training_values = pd.read_csv(\"data/4910797b-ee55-40a7-8668-10efd5c1b960.csv\")\n",
    "test = pd.read_csv(\"data/702ddfc5-68cd-4d1d-a0de-f5f566f76d91.csv\")\n",
    "\n",
    "train = training_values.merge(training_label, on = 'id')\n",
    "\n",
    "\n",
    "test['status_group'] = '*unknown*'#the unknown target variable\n",
    "\n",
    "#We will annotate our train and test set before combining them for simple indexing later on. \n",
    "train['data_set'] = 'train'\n",
    "test['data_set'] = 'test'\n",
    "\n",
    "trainset = pd.DataFrame(train)\n",
    "testset = pd.DataFrame(test)\n",
    "\n",
    "display(Markdown(\"There are {} observations in training set, and {} observations in the test set:{} observations in total.\".format(len(train), len(test), len(train) + len(test))))\n",
    "display(Markdown(\"There are {} variables in training dataset including the target variable.\".format(len(train.columns))))"
   ]
  },
  {
   "cell_type": "code",
   "execution_count": 12,
   "metadata": {},
   "outputs": [
    {
     "data": {
      "text/html": [
       "<div>\n",
       "<style scoped>\n",
       "    .dataframe tbody tr th:only-of-type {\n",
       "        vertical-align: middle;\n",
       "    }\n",
       "\n",
       "    .dataframe tbody tr th {\n",
       "        vertical-align: top;\n",
       "    }\n",
       "\n",
       "    .dataframe thead th {\n",
       "        text-align: right;\n",
       "    }\n",
       "</style>\n",
       "<table border=\"1\" class=\"dataframe\">\n",
       "  <thead>\n",
       "    <tr style=\"text-align: right;\">\n",
       "      <th></th>\n",
       "      <th>id</th>\n",
       "      <th>amount_tsh</th>\n",
       "      <th>date_recorded</th>\n",
       "      <th>funder</th>\n",
       "      <th>gps_height</th>\n",
       "      <th>installer</th>\n",
       "      <th>longitude</th>\n",
       "      <th>latitude</th>\n",
       "      <th>wpt_name</th>\n",
       "      <th>num_private</th>\n",
       "      <th>...</th>\n",
       "      <th>quality_group</th>\n",
       "      <th>quantity</th>\n",
       "      <th>quantity_group</th>\n",
       "      <th>source</th>\n",
       "      <th>source_type</th>\n",
       "      <th>source_class</th>\n",
       "      <th>waterpoint_type</th>\n",
       "      <th>waterpoint_type_group</th>\n",
       "      <th>status_group</th>\n",
       "      <th>data_set</th>\n",
       "    </tr>\n",
       "  </thead>\n",
       "  <tbody>\n",
       "    <tr>\n",
       "      <th>0</th>\n",
       "      <td>69572</td>\n",
       "      <td>6000.0</td>\n",
       "      <td>2011-03-14</td>\n",
       "      <td>Roman</td>\n",
       "      <td>1390</td>\n",
       "      <td>Roman</td>\n",
       "      <td>34.938093</td>\n",
       "      <td>-9.856322</td>\n",
       "      <td>none</td>\n",
       "      <td>0</td>\n",
       "      <td>...</td>\n",
       "      <td>good</td>\n",
       "      <td>enough</td>\n",
       "      <td>enough</td>\n",
       "      <td>spring</td>\n",
       "      <td>spring</td>\n",
       "      <td>groundwater</td>\n",
       "      <td>communal standpipe</td>\n",
       "      <td>communal standpipe</td>\n",
       "      <td>functional</td>\n",
       "      <td>train</td>\n",
       "    </tr>\n",
       "    <tr>\n",
       "      <th>1</th>\n",
       "      <td>8776</td>\n",
       "      <td>0.0</td>\n",
       "      <td>2013-03-06</td>\n",
       "      <td>Grumeti</td>\n",
       "      <td>1399</td>\n",
       "      <td>GRUMETI</td>\n",
       "      <td>34.698766</td>\n",
       "      <td>-2.147466</td>\n",
       "      <td>Zahanati</td>\n",
       "      <td>0</td>\n",
       "      <td>...</td>\n",
       "      <td>good</td>\n",
       "      <td>insufficient</td>\n",
       "      <td>insufficient</td>\n",
       "      <td>rainwater harvesting</td>\n",
       "      <td>rainwater harvesting</td>\n",
       "      <td>surface</td>\n",
       "      <td>communal standpipe</td>\n",
       "      <td>communal standpipe</td>\n",
       "      <td>functional</td>\n",
       "      <td>train</td>\n",
       "    </tr>\n",
       "    <tr>\n",
       "      <th>2</th>\n",
       "      <td>34310</td>\n",
       "      <td>25.0</td>\n",
       "      <td>2013-02-25</td>\n",
       "      <td>Lottery Club</td>\n",
       "      <td>686</td>\n",
       "      <td>World vision</td>\n",
       "      <td>37.460664</td>\n",
       "      <td>-3.821329</td>\n",
       "      <td>Kwa Mahundi</td>\n",
       "      <td>0</td>\n",
       "      <td>...</td>\n",
       "      <td>good</td>\n",
       "      <td>enough</td>\n",
       "      <td>enough</td>\n",
       "      <td>dam</td>\n",
       "      <td>dam</td>\n",
       "      <td>surface</td>\n",
       "      <td>communal standpipe multiple</td>\n",
       "      <td>communal standpipe</td>\n",
       "      <td>functional</td>\n",
       "      <td>train</td>\n",
       "    </tr>\n",
       "    <tr>\n",
       "      <th>3</th>\n",
       "      <td>67743</td>\n",
       "      <td>0.0</td>\n",
       "      <td>2013-01-28</td>\n",
       "      <td>Unicef</td>\n",
       "      <td>263</td>\n",
       "      <td>UNICEF</td>\n",
       "      <td>38.486161</td>\n",
       "      <td>-11.155298</td>\n",
       "      <td>Zahanati Ya Nanyumbu</td>\n",
       "      <td>0</td>\n",
       "      <td>...</td>\n",
       "      <td>good</td>\n",
       "      <td>dry</td>\n",
       "      <td>dry</td>\n",
       "      <td>machine dbh</td>\n",
       "      <td>borehole</td>\n",
       "      <td>groundwater</td>\n",
       "      <td>communal standpipe multiple</td>\n",
       "      <td>communal standpipe</td>\n",
       "      <td>non functional</td>\n",
       "      <td>train</td>\n",
       "    </tr>\n",
       "    <tr>\n",
       "      <th>4</th>\n",
       "      <td>19728</td>\n",
       "      <td>0.0</td>\n",
       "      <td>2011-07-13</td>\n",
       "      <td>Action In A</td>\n",
       "      <td>0</td>\n",
       "      <td>Artisan</td>\n",
       "      <td>31.130847</td>\n",
       "      <td>-1.825359</td>\n",
       "      <td>Shuleni</td>\n",
       "      <td>0</td>\n",
       "      <td>...</td>\n",
       "      <td>good</td>\n",
       "      <td>seasonal</td>\n",
       "      <td>seasonal</td>\n",
       "      <td>rainwater harvesting</td>\n",
       "      <td>rainwater harvesting</td>\n",
       "      <td>surface</td>\n",
       "      <td>communal standpipe</td>\n",
       "      <td>communal standpipe</td>\n",
       "      <td>functional</td>\n",
       "      <td>train</td>\n",
       "    </tr>\n",
       "  </tbody>\n",
       "</table>\n",
       "<p>5 rows × 42 columns</p>\n",
       "</div>"
      ],
      "text/plain": [
       "      id  amount_tsh date_recorded        funder  gps_height     installer  \\\n",
       "0  69572      6000.0    2011-03-14         Roman        1390         Roman   \n",
       "1   8776         0.0    2013-03-06       Grumeti        1399       GRUMETI   \n",
       "2  34310        25.0    2013-02-25  Lottery Club         686  World vision   \n",
       "3  67743         0.0    2013-01-28        Unicef         263        UNICEF   \n",
       "4  19728         0.0    2011-07-13   Action In A           0       Artisan   \n",
       "\n",
       "   longitude   latitude              wpt_name  num_private  ... quality_group  \\\n",
       "0  34.938093  -9.856322                  none            0  ...          good   \n",
       "1  34.698766  -2.147466              Zahanati            0  ...          good   \n",
       "2  37.460664  -3.821329           Kwa Mahundi            0  ...          good   \n",
       "3  38.486161 -11.155298  Zahanati Ya Nanyumbu            0  ...          good   \n",
       "4  31.130847  -1.825359               Shuleni            0  ...          good   \n",
       "\n",
       "       quantity quantity_group                source           source_type  \\\n",
       "0        enough         enough                spring                spring   \n",
       "1  insufficient   insufficient  rainwater harvesting  rainwater harvesting   \n",
       "2        enough         enough                   dam                   dam   \n",
       "3           dry            dry           machine dbh              borehole   \n",
       "4      seasonal       seasonal  rainwater harvesting  rainwater harvesting   \n",
       "\n",
       "  source_class              waterpoint_type  waterpoint_type_group  \\\n",
       "0  groundwater           communal standpipe     communal standpipe   \n",
       "1      surface           communal standpipe     communal standpipe   \n",
       "2      surface  communal standpipe multiple     communal standpipe   \n",
       "3  groundwater  communal standpipe multiple     communal standpipe   \n",
       "4      surface           communal standpipe     communal standpipe   \n",
       "\n",
       "     status_group data_set  \n",
       "0      functional    train  \n",
       "1      functional    train  \n",
       "2      functional    train  \n",
       "3  non functional    train  \n",
       "4      functional    train  \n",
       "\n",
       "[5 rows x 42 columns]"
      ]
     },
     "execution_count": 12,
     "metadata": {},
     "output_type": "execute_result"
    }
   ],
   "source": [
    "dataset = trainset.append(testset)\n",
    "dataset.head()"
   ]
  },
  {
   "cell_type": "code",
   "execution_count": 13,
   "metadata": {
    "scrolled": true
   },
   "outputs": [
    {
     "name": "stdout",
     "output_type": "stream",
     "text": [
      "<class 'pandas.core.frame.DataFrame'>\n",
      "Int64Index: 59400 entries, 0 to 59399\n",
      "Data columns (total 42 columns):\n",
      "id                       59400 non-null int64\n",
      "amount_tsh               59400 non-null float64\n",
      "date_recorded            59400 non-null object\n",
      "funder                   55765 non-null object\n",
      "gps_height               59400 non-null int64\n",
      "installer                55745 non-null object\n",
      "longitude                59400 non-null float64\n",
      "latitude                 59400 non-null float64\n",
      "wpt_name                 59400 non-null object\n",
      "num_private              59400 non-null int64\n",
      "basin                    59400 non-null object\n",
      "subvillage               59029 non-null object\n",
      "region                   59400 non-null object\n",
      "region_code              59400 non-null int64\n",
      "district_code            59400 non-null int64\n",
      "lga                      59400 non-null object\n",
      "ward                     59400 non-null object\n",
      "population               59400 non-null int64\n",
      "public_meeting           56066 non-null object\n",
      "recorded_by              59400 non-null object\n",
      "scheme_management        55523 non-null object\n",
      "scheme_name              31234 non-null object\n",
      "permit                   56344 non-null object\n",
      "construction_year        59400 non-null int64\n",
      "extraction_type          59400 non-null object\n",
      "extraction_type_group    59400 non-null object\n",
      "extraction_type_class    59400 non-null object\n",
      "management               59400 non-null object\n",
      "management_group         59400 non-null object\n",
      "payment                  59400 non-null object\n",
      "payment_type             59400 non-null object\n",
      "water_quality            59400 non-null object\n",
      "quality_group            59400 non-null object\n",
      "quantity                 59400 non-null object\n",
      "quantity_group           59400 non-null object\n",
      "source                   59400 non-null object\n",
      "source_type              59400 non-null object\n",
      "source_class             59400 non-null object\n",
      "waterpoint_type          59400 non-null object\n",
      "waterpoint_type_group    59400 non-null object\n",
      "status_group             59400 non-null object\n",
      "data_set                 59400 non-null object\n",
      "dtypes: float64(3), int64(7), object(32)\n",
      "memory usage: 19.5+ MB\n"
     ]
    }
   ],
   "source": [
    "dataset[:59400].info()"
   ]
  },
  {
   "cell_type": "markdown",
   "metadata": {},
   "source": [
    "### 2.2. Data Type <a class=\"anchor\" id=\"second2-bullet\"></a>"
   ]
  },
  {
   "cell_type": "markdown",
   "metadata": {},
   "source": [
    "The data loaded recognized numeric and object variable in our dataset. We need to change these to categories and also change other variables which are defined as numbers into categories. "
   ]
  },
  {
   "cell_type": "code",
   "execution_count": 14,
   "metadata": {
    "scrolled": true
   },
   "outputs": [],
   "source": [
    "#Changing datatypes from Objects to Categories.\n",
    "for col in dataset:\n",
    "    if dataset.dtypes[col].name == 'object':\n",
    "        dataset[col] = dataset[col].astype('category')"
   ]
  },
  {
   "cell_type": "code",
   "execution_count": 15,
   "metadata": {},
   "outputs": [],
   "source": [
    "#Setting other varaibles defined as numbers to categories. \n",
    "other_categoricals = ['id', 'district_code', 'construction_year', 'region_code'] #removed gps_height\n",
    "dataset[other_categoricals] = dataset[other_categoricals].astype('category')"
   ]
  },
  {
   "cell_type": "markdown",
   "metadata": {},
   "source": [
    "### 2.3. Data Profile <a class=\"anchor\" id=\"second3-bullet\"></a>"
   ]
  },
  {
   "cell_type": "markdown",
   "metadata": {},
   "source": [
    "The profile of training set in our dataset highlights key aspects of our data, including correlations, missing values, and distribution. We will further explore the variables one by one below. "
   ]
  },
  {
   "cell_type": "code",
   "execution_count": 16,
   "metadata": {},
   "outputs": [],
   "source": [
    "# profile = ProfileReport(trainset,title='Training Dataset Summary Report', html={'style':{'full_width':True}})"
   ]
  },
  {
   "cell_type": "code",
   "execution_count": 17,
   "metadata": {
    "scrolled": true
   },
   "outputs": [],
   "source": [
    "# profile.to_notebook_iframe()"
   ]
  },
  {
   "cell_type": "markdown",
   "metadata": {},
   "source": [
    "#### Status Group <a class=\"anchor\" id=\"imbalance-bullet\"></a>"
   ]
  },
  {
   "cell_type": "code",
   "execution_count": 18,
   "metadata": {},
   "outputs": [
    {
     "data": {
      "text/html": [
       "<div>\n",
       "<style scoped>\n",
       "    .dataframe tbody tr th:only-of-type {\n",
       "        vertical-align: middle;\n",
       "    }\n",
       "\n",
       "    .dataframe tbody tr th {\n",
       "        vertical-align: top;\n",
       "    }\n",
       "\n",
       "    .dataframe thead th {\n",
       "        text-align: right;\n",
       "    }\n",
       "</style>\n",
       "<table border=\"1\" class=\"dataframe\">\n",
       "  <thead>\n",
       "    <tr style=\"text-align: right;\">\n",
       "      <th></th>\n",
       "      <th>status_group</th>\n",
       "      <th>%</th>\n",
       "    </tr>\n",
       "  </thead>\n",
       "  <tbody>\n",
       "    <tr>\n",
       "      <th>functional</th>\n",
       "      <td>32259</td>\n",
       "      <td>54.308081</td>\n",
       "    </tr>\n",
       "    <tr>\n",
       "      <th>non functional</th>\n",
       "      <td>22824</td>\n",
       "      <td>38.424242</td>\n",
       "    </tr>\n",
       "    <tr>\n",
       "      <th>functional needs repair</th>\n",
       "      <td>4317</td>\n",
       "      <td>7.267677</td>\n",
       "    </tr>\n",
       "  </tbody>\n",
       "</table>\n",
       "</div>"
      ],
      "text/plain": [
       "                         status_group          %\n",
       "functional                      32259  54.308081\n",
       "non functional                  22824  38.424242\n",
       "functional needs repair          4317   7.267677"
      ]
     },
     "execution_count": 18,
     "metadata": {},
     "output_type": "execute_result"
    }
   ],
   "source": [
    "status_group=pd.DataFrame(trainset[\"status_group\"].value_counts())\n",
    "status_group['%']=(trainset[\"status_group\"].value_counts())/len(trainset)*100\n",
    "status_group"
   ]
  },
  {
   "cell_type": "markdown",
   "metadata": {},
   "source": [
    "<div class=\"alert alert-block alert-success\">\n",
    "The classes in our train set is unbalanced as we have very small proportion for 'Functional Needs Repair'. We will test both upsample and undersample method later on and find the optimal method to balance the classes. "
   ]
  },
  {
   "cell_type": "markdown",
   "metadata": {},
   "source": [
    "## 3. Data Cleaning <a class=\"anchor\" id=\"third-bullet\"></a>"
   ]
  },
  {
   "cell_type": "markdown",
   "metadata": {},
   "source": [
    "### 3.1. Tracking Null Values, Duplicates, Errors and Redundancy"
   ]
  },
  {
   "cell_type": "code",
   "execution_count": 19,
   "metadata": {
    "scrolled": false
   },
   "outputs": [
    {
     "data": {
      "text/plain": [
       "funder                4504\n",
       "installer             4532\n",
       "subvillage             470\n",
       "public_meeting        4155\n",
       "scheme_management     4846\n",
       "scheme_name          35258\n",
       "permit                3793\n",
       "dtype: int64"
      ]
     },
     "execution_count": 19,
     "metadata": {},
     "output_type": "execute_result"
    }
   ],
   "source": [
    "dataset.isna().sum()[dataset.isna().sum().ne(0)]"
   ]
  },
  {
   "cell_type": "markdown",
   "metadata": {},
   "source": [
    "We have 7 variables ('funder', 'installer', 'subvillage','public_meeting', 'public_meeting', 'scheme_management', 'scheme_name', 'permit') with missing values. \n",
    "However, the dataset [profile shows](#second3-bullet) there are variables below that have zeros:\n",
    "    - \"amount_sth\"\n",
    "    - \"population\"\n",
    "    - \"gps_height\"\n",
    "    - \"construction_year\"\n",
    "We will further investigate below each features and those highly correlated to see if there are amendments to be made."
   ]
  },
  {
   "cell_type": "code",
   "execution_count": 20,
   "metadata": {},
   "outputs": [
    {
     "data": {
      "text/plain": [
       "Text(0.5, 0.98, '')"
      ]
     },
     "execution_count": 20,
     "metadata": {},
     "output_type": "execute_result"
    },
    {
     "data": {
      "image/png": "[encoded data removed]",
      "text/plain": [
       "<Figure size 432x288 with 1 Axes>"
      ]
     },
     "metadata": {
      "needs_background": "light"
     },
     "output_type": "display_data"
    }
   ],
   "source": [
    "axes = dataset.boxplot(column=['amount_tsh'],by=['status_group']).set_title('Total Static Head')\n",
    "fig = axes.get_figure()\n",
    "fig.suptitle('')"
   ]
  },
  {
   "cell_type": "markdown",
   "metadata": {},
   "source": [
    "<div class=\"alert alert-block alert-success\">\n",
    "There are alot of '0' values for amount of static head for working pumps which is an error. We will change this values to NaN and impute them as missing values. This is becuase it is not possible to have **'functional'** and **'functional needs repair'** pumps with zero value for static head."
   ]
  },
  {
   "cell_type": "markdown",
   "metadata": {},
   "source": [
    "The above variables were identified because they were numeric, however we will need to manually check if there are '0's as string under categories and idenfify if they are errors, missing values or valid inputs."
   ]
  },
  {
   "cell_type": "code",
   "execution_count": 21,
   "metadata": {},
   "outputs": [
    {
     "data": {
      "text/plain": [
       "funder       980\n",
       "installer    980\n",
       "dtype: int64"
      ]
     },
     "execution_count": 21,
     "metadata": {},
     "output_type": "execute_result"
    }
   ],
   "source": [
    "dataset.isin(['0']).sum(axis=0)[dataset.isin(['0']).sum(axis=0).ne(0)]"
   ]
  },
  {
   "cell_type": "code",
   "execution_count": 22,
   "metadata": {},
   "outputs": [
    {
     "data": {
      "text/plain": [
       "id                       1\n",
       "amount_tsh           52049\n",
       "gps_height           25649\n",
       "longitude             2269\n",
       "num_private          73299\n",
       "district_code           27\n",
       "population           26834\n",
       "public_meeting        6346\n",
       "permit               21851\n",
       "construction_year    25969\n",
       "dtype: int64"
      ]
     },
     "execution_count": 22,
     "metadata": {},
     "output_type": "execute_result"
    }
   ],
   "source": [
    "dataset.isin([0]).sum(axis=0)[dataset.isin([0]).sum(axis=0).ne(0)]"
   ]
  },
  {
   "cell_type": "markdown",
   "metadata": {},
   "source": [
    "<div class=\"alert alert-block alert-success\">\n",
    "It is possible for district code to be 0, and **public_meeting** and **permit** are a boolean column thus having a zero value means false."
   ]
  },
  {
   "cell_type": "markdown",
   "metadata": {},
   "source": [
    "##### <font color=#0078CC>Longitude and Latitude</font>"
   ]
  },
  {
   "cell_type": "markdown",
   "metadata": {},
   "source": [
    "<div class=\"alert alert-block alert-success\">\n",
    "Tanzania is located between latitudes 1°S and 12°S and longitudes 29°E to 41°E. Thus a zero degree in longitude is an error or in this case considered a missing value. Moreover, there are locations that have specifically latitudes outside this range for Tanzania. These values will also be considered as missing values and imputed."
   ]
  },
  {
   "cell_type": "code",
   "execution_count": 23,
   "metadata": {},
   "outputs": [
    {
     "data": {
      "text/plain": [
       "2269"
      ]
     },
     "execution_count": 23,
     "metadata": {},
     "output_type": "execute_result"
    }
   ],
   "source": [
    "#The Values here are the zeros identified above\n",
    "len(pd.DataFrame(dataset[(dataset['longitude']< 29) | (dataset['longitude']>41)]))"
   ]
  },
  {
   "cell_type": "code",
   "execution_count": 24,
   "metadata": {},
   "outputs": [
    {
     "data": {
      "text/plain": [
       "2277"
      ]
     },
     "execution_count": 24,
     "metadata": {},
     "output_type": "execute_result"
    }
   ],
   "source": [
    "len(pd.DataFrame(dataset[(dataset['latitude']> -1) | (dataset['latitude']<-12)]))"
   ]
  },
  {
   "cell_type": "markdown",
   "metadata": {},
   "source": [
    "##### <font color=#0078CC>Other Geographic Data</font>"
   ]
  },
  {
   "cell_type": "markdown",
   "metadata": {},
   "source": [
    "<div class=\"alert alert-block alert-success\">\n",
    "'region' and 'region_code' are highly correlated and should be the same data however we have more categories in the code than we do in the list of regions thus we will delete the 'region_code' and code it again.\n",
    "The same is true for 'lga' and 'district_coded'."
   ]
  },
  {
   "cell_type": "code",
   "execution_count": 25,
   "metadata": {},
   "outputs": [
    {
     "data": {
      "text/plain": [
       "(21, 27)"
      ]
     },
     "execution_count": 25,
     "metadata": {},
     "output_type": "execute_result"
    }
   ],
   "source": [
    "len(pd.DataFrame(dataset['region'].value_counts())),len(pd.DataFrame(dataset['region_code'].value_counts()))"
   ]
  },
  {
   "cell_type": "code",
   "execution_count": 26,
   "metadata": {},
   "outputs": [
    {
     "data": {
      "text/plain": [
       "(125, 20)"
      ]
     },
     "execution_count": 26,
     "metadata": {},
     "output_type": "execute_result"
    }
   ],
   "source": [
    "len(pd.DataFrame(dataset['lga'].value_counts())),len(pd.DataFrame(dataset['district_code'].value_counts()))"
   ]
  },
  {
   "cell_type": "code",
   "execution_count": 27,
   "metadata": {},
   "outputs": [
    {
     "data": {
      "text/plain": [
       "['region_code', 'district_code']"
      ]
     },
     "execution_count": 27,
     "metadata": {},
     "output_type": "execute_result"
    }
   ],
   "source": [
    "delete_cols=['region_code','district_code']\n",
    "delete_cols"
   ]
  },
  {
   "cell_type": "markdown",
   "metadata": {},
   "source": [
    "##### <font color=#0078CC>Scheme Data</font>"
   ]
  },
  {
   "cell_type": "code",
   "execution_count": 28,
   "metadata": {},
   "outputs": [
    {
     "data": {
      "text/html": [
       "<div>\n",
       "<style scoped>\n",
       "    .dataframe tbody tr th:only-of-type {\n",
       "        vertical-align: middle;\n",
       "    }\n",
       "\n",
       "    .dataframe tbody tr th {\n",
       "        vertical-align: top;\n",
       "    }\n",
       "\n",
       "    .dataframe thead th {\n",
       "        text-align: right;\n",
       "    }\n",
       "</style>\n",
       "<table border=\"1\" class=\"dataframe\">\n",
       "  <thead>\n",
       "    <tr style=\"text-align: right;\">\n",
       "      <th></th>\n",
       "      <th>scheme_management</th>\n",
       "    </tr>\n",
       "  </thead>\n",
       "  <tbody>\n",
       "    <tr>\n",
       "      <th>VWC</th>\n",
       "      <td>45917</td>\n",
       "    </tr>\n",
       "    <tr>\n",
       "      <th>WUG</th>\n",
       "      <td>6496</td>\n",
       "    </tr>\n",
       "    <tr>\n",
       "      <th>Water authority</th>\n",
       "      <td>3975</td>\n",
       "    </tr>\n",
       "    <tr>\n",
       "      <th>WUA</th>\n",
       "      <td>3551</td>\n",
       "    </tr>\n",
       "    <tr>\n",
       "      <th>Water Board</th>\n",
       "      <td>3462</td>\n",
       "    </tr>\n",
       "    <tr>\n",
       "      <th>Parastatal</th>\n",
       "      <td>2124</td>\n",
       "    </tr>\n",
       "    <tr>\n",
       "      <th>Company</th>\n",
       "      <td>1341</td>\n",
       "    </tr>\n",
       "    <tr>\n",
       "      <th>Private operator</th>\n",
       "      <td>1326</td>\n",
       "    </tr>\n",
       "    <tr>\n",
       "      <th>Other</th>\n",
       "      <td>996</td>\n",
       "    </tr>\n",
       "    <tr>\n",
       "      <th>SWC</th>\n",
       "      <td>123</td>\n",
       "    </tr>\n",
       "    <tr>\n",
       "      <th>Trust</th>\n",
       "      <td>92</td>\n",
       "    </tr>\n",
       "    <tr>\n",
       "      <th>None</th>\n",
       "      <td>1</td>\n",
       "    </tr>\n",
       "  </tbody>\n",
       "</table>\n",
       "</div>"
      ],
      "text/plain": [
       "                  scheme_management\n",
       "VWC                           45917\n",
       "WUG                            6496\n",
       "Water authority                3975\n",
       "WUA                            3551\n",
       "Water Board                    3462\n",
       "Parastatal                     2124\n",
       "Company                        1341\n",
       "Private operator               1326\n",
       "Other                           996\n",
       "SWC                             123\n",
       "Trust                            92\n",
       "None                              1"
      ]
     },
     "metadata": {},
     "output_type": "display_data"
    },
    {
     "data": {
      "text/html": [
       "<div>\n",
       "<style scoped>\n",
       "    .dataframe tbody tr th:only-of-type {\n",
       "        vertical-align: middle;\n",
       "    }\n",
       "\n",
       "    .dataframe tbody tr th {\n",
       "        vertical-align: top;\n",
       "    }\n",
       "\n",
       "    .dataframe thead th {\n",
       "        text-align: right;\n",
       "    }\n",
       "</style>\n",
       "<table border=\"1\" class=\"dataframe\">\n",
       "  <thead>\n",
       "    <tr style=\"text-align: right;\">\n",
       "      <th></th>\n",
       "      <th>scheme_name</th>\n",
       "    </tr>\n",
       "  </thead>\n",
       "  <tbody>\n",
       "    <tr>\n",
       "      <th>K</th>\n",
       "      <td>858</td>\n",
       "    </tr>\n",
       "    <tr>\n",
       "      <th>None</th>\n",
       "      <td>794</td>\n",
       "    </tr>\n",
       "    <tr>\n",
       "      <th>Borehole</th>\n",
       "      <td>704</td>\n",
       "    </tr>\n",
       "    <tr>\n",
       "      <th>Chalinze wate</th>\n",
       "      <td>501</td>\n",
       "    </tr>\n",
       "    <tr>\n",
       "      <th>M</th>\n",
       "      <td>490</td>\n",
       "    </tr>\n",
       "    <tr>\n",
       "      <th>...</th>\n",
       "      <td>...</td>\n",
       "    </tr>\n",
       "    <tr>\n",
       "      <th>Tand</th>\n",
       "      <td>1</td>\n",
       "    </tr>\n",
       "    <tr>\n",
       "      <th>Ndoleleji windmill piped scheme</th>\n",
       "      <td>1</td>\n",
       "    </tr>\n",
       "    <tr>\n",
       "      <th>Mafuriko  Water Supp</th>\n",
       "      <td>1</td>\n",
       "    </tr>\n",
       "    <tr>\n",
       "      <th>Ijndila</th>\n",
       "      <td>1</td>\n",
       "    </tr>\n",
       "    <tr>\n",
       "      <th>Hikata</th>\n",
       "      <td>1</td>\n",
       "    </tr>\n",
       "  </tbody>\n",
       "</table>\n",
       "<p>2868 rows × 1 columns</p>\n",
       "</div>"
      ],
      "text/plain": [
       "                                 scheme_name\n",
       "K                                        858\n",
       "None                                     794\n",
       "Borehole                                 704\n",
       "Chalinze wate                            501\n",
       "M                                        490\n",
       "...                                      ...\n",
       "Tand                                       1\n",
       "Ndoleleji windmill piped scheme            1\n",
       "Mafuriko  Water Supp                       1\n",
       "Ijndila                                    1\n",
       "Hikata                                     1\n",
       "\n",
       "[2868 rows x 1 columns]"
      ]
     },
     "metadata": {},
     "output_type": "display_data"
    }
   ],
   "source": [
    "display(pd.DataFrame(dataset['scheme_management'].value_counts()))\n",
    "display(pd.DataFrame(dataset['scheme_name'].value_counts()))"
   ]
  },
  {
   "cell_type": "code",
   "execution_count": 29,
   "metadata": {},
   "outputs": [
    {
     "data": {
      "text/html": [
       "<div>\n",
       "<style scoped>\n",
       "    .dataframe tbody tr th:only-of-type {\n",
       "        vertical-align: middle;\n",
       "    }\n",
       "\n",
       "    .dataframe tbody tr th {\n",
       "        vertical-align: top;\n",
       "    }\n",
       "\n",
       "    .dataframe thead th {\n",
       "        text-align: right;\n",
       "    }\n",
       "</style>\n",
       "<table border=\"1\" class=\"dataframe\">\n",
       "  <thead>\n",
       "    <tr style=\"text-align: right;\">\n",
       "      <th></th>\n",
       "      <th>management</th>\n",
       "    </tr>\n",
       "  </thead>\n",
       "  <tbody>\n",
       "    <tr>\n",
       "      <th>vwc</th>\n",
       "      <td>50624</td>\n",
       "    </tr>\n",
       "    <tr>\n",
       "      <th>wug</th>\n",
       "      <td>8108</td>\n",
       "    </tr>\n",
       "    <tr>\n",
       "      <th>water board</th>\n",
       "      <td>3688</td>\n",
       "    </tr>\n",
       "    <tr>\n",
       "      <th>wua</th>\n",
       "      <td>3118</td>\n",
       "    </tr>\n",
       "    <tr>\n",
       "      <th>private operator</th>\n",
       "      <td>2504</td>\n",
       "    </tr>\n",
       "    <tr>\n",
       "      <th>parastatal</th>\n",
       "      <td>2229</td>\n",
       "    </tr>\n",
       "    <tr>\n",
       "      <th>water authority</th>\n",
       "      <td>1123</td>\n",
       "    </tr>\n",
       "    <tr>\n",
       "      <th>other</th>\n",
       "      <td>1083</td>\n",
       "    </tr>\n",
       "    <tr>\n",
       "      <th>company</th>\n",
       "      <td>859</td>\n",
       "    </tr>\n",
       "    <tr>\n",
       "      <th>unknown</th>\n",
       "      <td>683</td>\n",
       "    </tr>\n",
       "    <tr>\n",
       "      <th>other - school</th>\n",
       "      <td>126</td>\n",
       "    </tr>\n",
       "    <tr>\n",
       "      <th>trust</th>\n",
       "      <td>105</td>\n",
       "    </tr>\n",
       "  </tbody>\n",
       "</table>\n",
       "</div>"
      ],
      "text/plain": [
       "                  management\n",
       "vwc                    50624\n",
       "wug                     8108\n",
       "water board             3688\n",
       "wua                     3118\n",
       "private operator        2504\n",
       "parastatal              2229\n",
       "water authority         1123\n",
       "other                   1083\n",
       "company                  859\n",
       "unknown                  683\n",
       "other - school           126\n",
       "trust                    105"
      ]
     },
     "metadata": {},
     "output_type": "display_data"
    },
    {
     "data": {
      "text/html": [
       "<div>\n",
       "<style scoped>\n",
       "    .dataframe tbody tr th:only-of-type {\n",
       "        vertical-align: middle;\n",
       "    }\n",
       "\n",
       "    .dataframe tbody tr th {\n",
       "        vertical-align: top;\n",
       "    }\n",
       "\n",
       "    .dataframe thead th {\n",
       "        text-align: right;\n",
       "    }\n",
       "</style>\n",
       "<table border=\"1\" class=\"dataframe\">\n",
       "  <thead>\n",
       "    <tr style=\"text-align: right;\">\n",
       "      <th></th>\n",
       "      <th>management_group</th>\n",
       "    </tr>\n",
       "  </thead>\n",
       "  <tbody>\n",
       "    <tr>\n",
       "      <th>user-group</th>\n",
       "      <td>65538</td>\n",
       "    </tr>\n",
       "    <tr>\n",
       "      <th>commercial</th>\n",
       "      <td>4591</td>\n",
       "    </tr>\n",
       "    <tr>\n",
       "      <th>parastatal</th>\n",
       "      <td>2229</td>\n",
       "    </tr>\n",
       "    <tr>\n",
       "      <th>other</th>\n",
       "      <td>1209</td>\n",
       "    </tr>\n",
       "    <tr>\n",
       "      <th>unknown</th>\n",
       "      <td>683</td>\n",
       "    </tr>\n",
       "  </tbody>\n",
       "</table>\n",
       "</div>"
      ],
      "text/plain": [
       "            management_group\n",
       "user-group             65538\n",
       "commercial              4591\n",
       "parastatal              2229\n",
       "other                   1209\n",
       "unknown                  683"
      ]
     },
     "metadata": {},
     "output_type": "display_data"
    }
   ],
   "source": [
    "display(pd.DataFrame(dataset['management'].value_counts()))\n",
    "display(pd.DataFrame(dataset['management_group'].value_counts()))"
   ]
  },
  {
   "cell_type": "markdown",
   "metadata": {},
   "source": [
    "<div class=\"alert alert-block alert-success\">\n",
    "There is no added values of the specific name if the overall information regarding scheme managment is known. The 'scheme_name' will be removed.\n",
    "management and scheme_management have the same data however the values are varying. We will keep the 'scheme_management' column as it has no unknown values, and assume that it is the one with correct information, and remove 'management'."
   ]
  },
  {
   "cell_type": "code",
   "execution_count": 30,
   "metadata": {},
   "outputs": [
    {
     "name": "stdout",
     "output_type": "stream",
     "text": [
      "['region_code', 'district_code', 'scheme_name', 'management']\n"
     ]
    }
   ],
   "source": [
    "delete_cols=delete_cols+['scheme_name','management']\n",
    "print(delete_cols)"
   ]
  },
  {
   "cell_type": "markdown",
   "metadata": {},
   "source": [
    "##### <font color=#0078CC>Payment Data</font>"
   ]
  },
  {
   "cell_type": "code",
   "execution_count": 31,
   "metadata": {},
   "outputs": [
    {
     "data": {
      "text/html": [
       "<div>\n",
       "<style scoped>\n",
       "    .dataframe tbody tr th:only-of-type {\n",
       "        vertical-align: middle;\n",
       "    }\n",
       "\n",
       "    .dataframe tbody tr th {\n",
       "        vertical-align: top;\n",
       "    }\n",
       "\n",
       "    .dataframe thead th {\n",
       "        text-align: right;\n",
       "    }\n",
       "</style>\n",
       "<table border=\"1\" class=\"dataframe\">\n",
       "  <thead>\n",
       "    <tr style=\"text-align: right;\">\n",
       "      <th></th>\n",
       "      <th>payment_type</th>\n",
       "    </tr>\n",
       "  </thead>\n",
       "  <tbody>\n",
       "    <tr>\n",
       "      <th>never pay</th>\n",
       "      <td>31712</td>\n",
       "    </tr>\n",
       "    <tr>\n",
       "      <th>per bucket</th>\n",
       "      <td>11266</td>\n",
       "    </tr>\n",
       "    <tr>\n",
       "      <th>monthly</th>\n",
       "      <td>10397</td>\n",
       "    </tr>\n",
       "    <tr>\n",
       "      <th>unknown</th>\n",
       "      <td>10149</td>\n",
       "    </tr>\n",
       "    <tr>\n",
       "      <th>on failure</th>\n",
       "      <td>4842</td>\n",
       "    </tr>\n",
       "    <tr>\n",
       "      <th>annually</th>\n",
       "      <td>4570</td>\n",
       "    </tr>\n",
       "    <tr>\n",
       "      <th>other</th>\n",
       "      <td>1314</td>\n",
       "    </tr>\n",
       "  </tbody>\n",
       "</table>\n",
       "</div>"
      ],
      "text/plain": [
       "            payment_type\n",
       "never pay          31712\n",
       "per bucket         11266\n",
       "monthly            10397\n",
       "unknown            10149\n",
       "on failure          4842\n",
       "annually            4570\n",
       "other               1314"
      ]
     },
     "metadata": {},
     "output_type": "display_data"
    },
    {
     "data": {
      "text/html": [
       "<div>\n",
       "<style scoped>\n",
       "    .dataframe tbody tr th:only-of-type {\n",
       "        vertical-align: middle;\n",
       "    }\n",
       "\n",
       "    .dataframe tbody tr th {\n",
       "        vertical-align: top;\n",
       "    }\n",
       "\n",
       "    .dataframe thead th {\n",
       "        text-align: right;\n",
       "    }\n",
       "</style>\n",
       "<table border=\"1\" class=\"dataframe\">\n",
       "  <thead>\n",
       "    <tr style=\"text-align: right;\">\n",
       "      <th></th>\n",
       "      <th>payment</th>\n",
       "    </tr>\n",
       "  </thead>\n",
       "  <tbody>\n",
       "    <tr>\n",
       "      <th>never pay</th>\n",
       "      <td>31712</td>\n",
       "    </tr>\n",
       "    <tr>\n",
       "      <th>pay per bucket</th>\n",
       "      <td>11266</td>\n",
       "    </tr>\n",
       "    <tr>\n",
       "      <th>pay monthly</th>\n",
       "      <td>10397</td>\n",
       "    </tr>\n",
       "    <tr>\n",
       "      <th>unknown</th>\n",
       "      <td>10149</td>\n",
       "    </tr>\n",
       "    <tr>\n",
       "      <th>pay when scheme fails</th>\n",
       "      <td>4842</td>\n",
       "    </tr>\n",
       "    <tr>\n",
       "      <th>pay annually</th>\n",
       "      <td>4570</td>\n",
       "    </tr>\n",
       "    <tr>\n",
       "      <th>other</th>\n",
       "      <td>1314</td>\n",
       "    </tr>\n",
       "  </tbody>\n",
       "</table>\n",
       "</div>"
      ],
      "text/plain": [
       "                       payment\n",
       "never pay                31712\n",
       "pay per bucket           11266\n",
       "pay monthly              10397\n",
       "unknown                  10149\n",
       "pay when scheme fails     4842\n",
       "pay annually              4570\n",
       "other                     1314"
      ]
     },
     "metadata": {},
     "output_type": "display_data"
    }
   ],
   "source": [
    "display(pd.DataFrame(dataset['payment_type'].value_counts()))\n",
    "display(pd.DataFrame(dataset['payment'].value_counts()))"
   ]
  },
  {
   "cell_type": "code",
   "execution_count": 32,
   "metadata": {},
   "outputs": [
    {
     "data": {
      "text/plain": [
       "[31712, 11266, 10397, 10149, 4842, 4570, 1314]"
      ]
     },
     "execution_count": 32,
     "metadata": {},
     "output_type": "execute_result"
    }
   ],
   "source": [
    "[len(pd.DataFrame(dataset[(dataset['payment_type']=='never pay')& (dataset['payment']=='never pay')])),\n",
    "len(pd.DataFrame(dataset[(dataset['payment_type']=='per bucket')& (dataset['payment']=='pay per bucket')])),\n",
    "len(pd.DataFrame(dataset[(dataset['payment_type']=='monthly')& (dataset['payment']=='pay monthly')])),\n",
    "len(pd.DataFrame(dataset[(dataset['payment_type']=='unknown')& (dataset['payment']=='unknown')])),\n",
    "len(pd.DataFrame(dataset[(dataset['payment_type']=='on failure')& (dataset['payment']=='pay when scheme fails')])),\n",
    "len(pd.DataFrame(dataset[(dataset['payment_type']=='annually')& (dataset['payment']=='pay annually')])),\n",
    "len(pd.DataFrame(dataset[(dataset['payment_type']=='other')& (dataset['payment']=='other')]))]"
   ]
  },
  {
   "cell_type": "markdown",
   "metadata": {},
   "source": [
    "<div class=\"alert alert-block alert-success\">\n",
    "From the above list we can see that both columns are exact the same and we have **unknown** values. We will replace them with NAs so that they can be imputed below. 'payment_type' will be removed."
   ]
  },
  {
   "cell_type": "code",
   "execution_count": 33,
   "metadata": {},
   "outputs": [
    {
     "name": "stdout",
     "output_type": "stream",
     "text": [
      "['region_code', 'district_code', 'scheme_name', 'management', 'payment_type']\n"
     ]
    }
   ],
   "source": [
    "delete_cols=delete_cols+['payment_type']\n",
    "print(delete_cols)"
   ]
  },
  {
   "cell_type": "markdown",
   "metadata": {},
   "source": [
    "##### <font color=#0078CC>Water Extraction Data</font>"
   ]
  },
  {
   "cell_type": "code",
   "execution_count": 34,
   "metadata": {},
   "outputs": [
    {
     "data": {
      "text/html": [
       "<div>\n",
       "<style scoped>\n",
       "    .dataframe tbody tr th:only-of-type {\n",
       "        vertical-align: middle;\n",
       "    }\n",
       "\n",
       "    .dataframe tbody tr th {\n",
       "        vertical-align: top;\n",
       "    }\n",
       "\n",
       "    .dataframe thead th {\n",
       "        text-align: right;\n",
       "    }\n",
       "</style>\n",
       "<table border=\"1\" class=\"dataframe\">\n",
       "  <thead>\n",
       "    <tr style=\"text-align: right;\">\n",
       "      <th></th>\n",
       "      <th>extraction_type</th>\n",
       "    </tr>\n",
       "  </thead>\n",
       "  <tbody>\n",
       "    <tr>\n",
       "      <th>gravity</th>\n",
       "      <td>33263</td>\n",
       "    </tr>\n",
       "    <tr>\n",
       "      <th>nira/tanira</th>\n",
       "      <td>10205</td>\n",
       "    </tr>\n",
       "    <tr>\n",
       "      <th>other</th>\n",
       "      <td>8102</td>\n",
       "    </tr>\n",
       "    <tr>\n",
       "      <th>submersible</th>\n",
       "      <td>5982</td>\n",
       "    </tr>\n",
       "    <tr>\n",
       "      <th>swn 80</th>\n",
       "      <td>4588</td>\n",
       "    </tr>\n",
       "    <tr>\n",
       "      <th>mono</th>\n",
       "      <td>3628</td>\n",
       "    </tr>\n",
       "    <tr>\n",
       "      <th>india mark ii</th>\n",
       "      <td>3029</td>\n",
       "    </tr>\n",
       "    <tr>\n",
       "      <th>afridev</th>\n",
       "      <td>2208</td>\n",
       "    </tr>\n",
       "    <tr>\n",
       "      <th>ksb</th>\n",
       "      <td>1790</td>\n",
       "    </tr>\n",
       "    <tr>\n",
       "      <th>other - rope pump</th>\n",
       "      <td>572</td>\n",
       "    </tr>\n",
       "    <tr>\n",
       "      <th>other - swn 81</th>\n",
       "      <td>284</td>\n",
       "    </tr>\n",
       "    <tr>\n",
       "      <th>windmill</th>\n",
       "      <td>152</td>\n",
       "    </tr>\n",
       "    <tr>\n",
       "      <th>india mark iii</th>\n",
       "      <td>135</td>\n",
       "    </tr>\n",
       "    <tr>\n",
       "      <th>cemo</th>\n",
       "      <td>108</td>\n",
       "    </tr>\n",
       "    <tr>\n",
       "      <th>other - play pump</th>\n",
       "      <td>101</td>\n",
       "    </tr>\n",
       "    <tr>\n",
       "      <th>walimi</th>\n",
       "      <td>60</td>\n",
       "    </tr>\n",
       "    <tr>\n",
       "      <th>climax</th>\n",
       "      <td>41</td>\n",
       "    </tr>\n",
       "    <tr>\n",
       "      <th>other - mkulima/shinyanga</th>\n",
       "      <td>2</td>\n",
       "    </tr>\n",
       "  </tbody>\n",
       "</table>\n",
       "</div>"
      ],
      "text/plain": [
       "                           extraction_type\n",
       "gravity                              33263\n",
       "nira/tanira                          10205\n",
       "other                                 8102\n",
       "submersible                           5982\n",
       "swn 80                                4588\n",
       "mono                                  3628\n",
       "india mark ii                         3029\n",
       "afridev                               2208\n",
       "ksb                                   1790\n",
       "other - rope pump                      572\n",
       "other - swn 81                         284\n",
       "windmill                               152\n",
       "india mark iii                         135\n",
       "cemo                                   108\n",
       "other - play pump                      101\n",
       "walimi                                  60\n",
       "climax                                  41\n",
       "other - mkulima/shinyanga                2"
      ]
     },
     "metadata": {},
     "output_type": "display_data"
    },
    {
     "data": {
      "text/html": [
       "<div>\n",
       "<style scoped>\n",
       "    .dataframe tbody tr th:only-of-type {\n",
       "        vertical-align: middle;\n",
       "    }\n",
       "\n",
       "    .dataframe tbody tr th {\n",
       "        vertical-align: top;\n",
       "    }\n",
       "\n",
       "    .dataframe thead th {\n",
       "        text-align: right;\n",
       "    }\n",
       "</style>\n",
       "<table border=\"1\" class=\"dataframe\">\n",
       "  <thead>\n",
       "    <tr style=\"text-align: right;\">\n",
       "      <th></th>\n",
       "      <th>extraction_type_group</th>\n",
       "    </tr>\n",
       "  </thead>\n",
       "  <tbody>\n",
       "    <tr>\n",
       "      <th>gravity</th>\n",
       "      <td>33263</td>\n",
       "    </tr>\n",
       "    <tr>\n",
       "      <th>nira/tanira</th>\n",
       "      <td>10205</td>\n",
       "    </tr>\n",
       "    <tr>\n",
       "      <th>other</th>\n",
       "      <td>8102</td>\n",
       "    </tr>\n",
       "    <tr>\n",
       "      <th>submersible</th>\n",
       "      <td>7772</td>\n",
       "    </tr>\n",
       "    <tr>\n",
       "      <th>swn 80</th>\n",
       "      <td>4588</td>\n",
       "    </tr>\n",
       "    <tr>\n",
       "      <th>mono</th>\n",
       "      <td>3628</td>\n",
       "    </tr>\n",
       "    <tr>\n",
       "      <th>india mark ii</th>\n",
       "      <td>3029</td>\n",
       "    </tr>\n",
       "    <tr>\n",
       "      <th>afridev</th>\n",
       "      <td>2208</td>\n",
       "    </tr>\n",
       "    <tr>\n",
       "      <th>rope pump</th>\n",
       "      <td>572</td>\n",
       "    </tr>\n",
       "    <tr>\n",
       "      <th>other handpump</th>\n",
       "      <td>447</td>\n",
       "    </tr>\n",
       "    <tr>\n",
       "      <th>wind-powered</th>\n",
       "      <td>152</td>\n",
       "    </tr>\n",
       "    <tr>\n",
       "      <th>other motorpump</th>\n",
       "      <td>149</td>\n",
       "    </tr>\n",
       "    <tr>\n",
       "      <th>india mark iii</th>\n",
       "      <td>135</td>\n",
       "    </tr>\n",
       "  </tbody>\n",
       "</table>\n",
       "</div>"
      ],
      "text/plain": [
       "                 extraction_type_group\n",
       "gravity                          33263\n",
       "nira/tanira                      10205\n",
       "other                             8102\n",
       "submersible                       7772\n",
       "swn 80                            4588\n",
       "mono                              3628\n",
       "india mark ii                     3029\n",
       "afridev                           2208\n",
       "rope pump                          572\n",
       "other handpump                     447\n",
       "wind-powered                       152\n",
       "other motorpump                    149\n",
       "india mark iii                     135"
      ]
     },
     "metadata": {},
     "output_type": "display_data"
    },
    {
     "data": {
      "text/html": [
       "<div>\n",
       "<style scoped>\n",
       "    .dataframe tbody tr th:only-of-type {\n",
       "        vertical-align: middle;\n",
       "    }\n",
       "\n",
       "    .dataframe tbody tr th {\n",
       "        vertical-align: top;\n",
       "    }\n",
       "\n",
       "    .dataframe thead th {\n",
       "        text-align: right;\n",
       "    }\n",
       "</style>\n",
       "<table border=\"1\" class=\"dataframe\">\n",
       "  <thead>\n",
       "    <tr style=\"text-align: right;\">\n",
       "      <th></th>\n",
       "      <th>extraction_type_class</th>\n",
       "    </tr>\n",
       "  </thead>\n",
       "  <tbody>\n",
       "    <tr>\n",
       "      <th>gravity</th>\n",
       "      <td>33263</td>\n",
       "    </tr>\n",
       "    <tr>\n",
       "      <th>handpump</th>\n",
       "      <td>20612</td>\n",
       "    </tr>\n",
       "    <tr>\n",
       "      <th>other</th>\n",
       "      <td>8102</td>\n",
       "    </tr>\n",
       "    <tr>\n",
       "      <th>submersible</th>\n",
       "      <td>7772</td>\n",
       "    </tr>\n",
       "    <tr>\n",
       "      <th>motorpump</th>\n",
       "      <td>3777</td>\n",
       "    </tr>\n",
       "    <tr>\n",
       "      <th>rope pump</th>\n",
       "      <td>572</td>\n",
       "    </tr>\n",
       "    <tr>\n",
       "      <th>wind-powered</th>\n",
       "      <td>152</td>\n",
       "    </tr>\n",
       "  </tbody>\n",
       "</table>\n",
       "</div>"
      ],
      "text/plain": [
       "              extraction_type_class\n",
       "gravity                       33263\n",
       "handpump                      20612\n",
       "other                          8102\n",
       "submersible                    7772\n",
       "motorpump                      3777\n",
       "rope pump                       572\n",
       "wind-powered                    152"
      ]
     },
     "metadata": {},
     "output_type": "display_data"
    }
   ],
   "source": [
    "display(pd.DataFrame(dataset['extraction_type'].value_counts()))\n",
    "display(pd.DataFrame(dataset['extraction_type_group'].value_counts()))\n",
    "display(pd.DataFrame(dataset['extraction_type_class'].value_counts()))"
   ]
  },
  {
   "cell_type": "markdown",
   "metadata": {},
   "source": [
    "<div class=\"alert alert-block alert-success\">\n",
    "All three features have the same values for 'other' and the rest is different level of aggregating the detail of the type of extraction. We will keep all three columns and choose the one identified as important during the feature selection step. "
   ]
  },
  {
   "cell_type": "markdown",
   "metadata": {},
   "source": [
    "##### <font color=#0078CC>Water Source Data</font>"
   ]
  },
  {
   "cell_type": "markdown",
   "metadata": {},
   "source": [
    "<div class=\"alert alert-block alert-success\">\n",
    "'Source', 'source_type' and 'source_class' are the same data with different level of aggregation. We will keep both and choose during the feature engineering phase which one is more important. The 'unknown' in 'source' and 'source_class' will be changed to NAs."
   ]
  },
  {
   "cell_type": "code",
   "execution_count": 35,
   "metadata": {},
   "outputs": [
    {
     "data": {
      "text/html": [
       "<div>\n",
       "<style scoped>\n",
       "    .dataframe tbody tr th:only-of-type {\n",
       "        vertical-align: middle;\n",
       "    }\n",
       "\n",
       "    .dataframe tbody tr th {\n",
       "        vertical-align: top;\n",
       "    }\n",
       "\n",
       "    .dataframe thead th {\n",
       "        text-align: right;\n",
       "    }\n",
       "</style>\n",
       "<table border=\"1\" class=\"dataframe\">\n",
       "  <thead>\n",
       "    <tr style=\"text-align: right;\">\n",
       "      <th></th>\n",
       "      <th>source</th>\n",
       "    </tr>\n",
       "  </thead>\n",
       "  <tbody>\n",
       "    <tr>\n",
       "      <th>spring</th>\n",
       "      <td>21216</td>\n",
       "    </tr>\n",
       "    <tr>\n",
       "      <th>shallow well</th>\n",
       "      <td>21140</td>\n",
       "    </tr>\n",
       "    <tr>\n",
       "      <th>machine dbh</th>\n",
       "      <td>13822</td>\n",
       "    </tr>\n",
       "    <tr>\n",
       "      <th>river</th>\n",
       "      <td>11964</td>\n",
       "    </tr>\n",
       "    <tr>\n",
       "      <th>rainwater harvesting</th>\n",
       "      <td>2863</td>\n",
       "    </tr>\n",
       "    <tr>\n",
       "      <th>hand dtw</th>\n",
       "      <td>1108</td>\n",
       "    </tr>\n",
       "    <tr>\n",
       "      <th>lake</th>\n",
       "      <td>950</td>\n",
       "    </tr>\n",
       "    <tr>\n",
       "      <th>dam</th>\n",
       "      <td>840</td>\n",
       "    </tr>\n",
       "    <tr>\n",
       "      <th>other</th>\n",
       "      <td>261</td>\n",
       "    </tr>\n",
       "    <tr>\n",
       "      <th>unknown</th>\n",
       "      <td>86</td>\n",
       "    </tr>\n",
       "  </tbody>\n",
       "</table>\n",
       "</div>"
      ],
      "text/plain": [
       "                      source\n",
       "spring                 21216\n",
       "shallow well           21140\n",
       "machine dbh            13822\n",
       "river                  11964\n",
       "rainwater harvesting    2863\n",
       "hand dtw                1108\n",
       "lake                     950\n",
       "dam                      840\n",
       "other                    261\n",
       "unknown                   86"
      ]
     },
     "metadata": {},
     "output_type": "display_data"
    },
    {
     "data": {
      "text/html": [
       "<div>\n",
       "<style scoped>\n",
       "    .dataframe tbody tr th:only-of-type {\n",
       "        vertical-align: middle;\n",
       "    }\n",
       "\n",
       "    .dataframe tbody tr th {\n",
       "        vertical-align: top;\n",
       "    }\n",
       "\n",
       "    .dataframe thead th {\n",
       "        text-align: right;\n",
       "    }\n",
       "</style>\n",
       "<table border=\"1\" class=\"dataframe\">\n",
       "  <thead>\n",
       "    <tr style=\"text-align: right;\">\n",
       "      <th></th>\n",
       "      <th>source_type</th>\n",
       "    </tr>\n",
       "  </thead>\n",
       "  <tbody>\n",
       "    <tr>\n",
       "      <th>spring</th>\n",
       "      <td>21216</td>\n",
       "    </tr>\n",
       "    <tr>\n",
       "      <th>shallow well</th>\n",
       "      <td>21140</td>\n",
       "    </tr>\n",
       "    <tr>\n",
       "      <th>borehole</th>\n",
       "      <td>14930</td>\n",
       "    </tr>\n",
       "    <tr>\n",
       "      <th>river/lake</th>\n",
       "      <td>12914</td>\n",
       "    </tr>\n",
       "    <tr>\n",
       "      <th>rainwater harvesting</th>\n",
       "      <td>2863</td>\n",
       "    </tr>\n",
       "    <tr>\n",
       "      <th>dam</th>\n",
       "      <td>840</td>\n",
       "    </tr>\n",
       "    <tr>\n",
       "      <th>other</th>\n",
       "      <td>347</td>\n",
       "    </tr>\n",
       "  </tbody>\n",
       "</table>\n",
       "</div>"
      ],
      "text/plain": [
       "                      source_type\n",
       "spring                      21216\n",
       "shallow well                21140\n",
       "borehole                    14930\n",
       "river/lake                  12914\n",
       "rainwater harvesting         2863\n",
       "dam                           840\n",
       "other                         347"
      ]
     },
     "metadata": {},
     "output_type": "display_data"
    },
    {
     "data": {
      "text/html": [
       "<div>\n",
       "<style scoped>\n",
       "    .dataframe tbody tr th:only-of-type {\n",
       "        vertical-align: middle;\n",
       "    }\n",
       "\n",
       "    .dataframe tbody tr th {\n",
       "        vertical-align: top;\n",
       "    }\n",
       "\n",
       "    .dataframe thead th {\n",
       "        text-align: right;\n",
       "    }\n",
       "</style>\n",
       "<table border=\"1\" class=\"dataframe\">\n",
       "  <thead>\n",
       "    <tr style=\"text-align: right;\">\n",
       "      <th></th>\n",
       "      <th>source_class</th>\n",
       "    </tr>\n",
       "  </thead>\n",
       "  <tbody>\n",
       "    <tr>\n",
       "      <th>groundwater</th>\n",
       "      <td>57286</td>\n",
       "    </tr>\n",
       "    <tr>\n",
       "      <th>surface</th>\n",
       "      <td>16617</td>\n",
       "    </tr>\n",
       "    <tr>\n",
       "      <th>unknown</th>\n",
       "      <td>347</td>\n",
       "    </tr>\n",
       "  </tbody>\n",
       "</table>\n",
       "</div>"
      ],
      "text/plain": [
       "             source_class\n",
       "groundwater         57286\n",
       "surface             16617\n",
       "unknown               347"
      ]
     },
     "metadata": {},
     "output_type": "display_data"
    }
   ],
   "source": [
    "display(pd.DataFrame(dataset['source'].value_counts()))\n",
    "display(pd.DataFrame(dataset['source_type'].value_counts()))\n",
    "display(pd.DataFrame(dataset['source_class'].value_counts()))"
   ]
  },
  {
   "cell_type": "markdown",
   "metadata": {},
   "source": [
    "##### <font color=#0078CC>Water Quality and Quantity Data</font>"
   ]
  },
  {
   "cell_type": "code",
   "execution_count": 36,
   "metadata": {},
   "outputs": [
    {
     "data": {
      "text/html": [
       "<div>\n",
       "<style scoped>\n",
       "    .dataframe tbody tr th:only-of-type {\n",
       "        vertical-align: middle;\n",
       "    }\n",
       "\n",
       "    .dataframe tbody tr th {\n",
       "        vertical-align: top;\n",
       "    }\n",
       "\n",
       "    .dataframe thead th {\n",
       "        text-align: right;\n",
       "    }\n",
       "</style>\n",
       "<table border=\"1\" class=\"dataframe\">\n",
       "  <thead>\n",
       "    <tr style=\"text-align: right;\">\n",
       "      <th></th>\n",
       "      <th>water_quality</th>\n",
       "    </tr>\n",
       "  </thead>\n",
       "  <tbody>\n",
       "    <tr>\n",
       "      <th>soft</th>\n",
       "      <td>63505</td>\n",
       "    </tr>\n",
       "    <tr>\n",
       "      <th>salty</th>\n",
       "      <td>6082</td>\n",
       "    </tr>\n",
       "    <tr>\n",
       "      <th>unknown</th>\n",
       "      <td>2345</td>\n",
       "    </tr>\n",
       "    <tr>\n",
       "      <th>milky</th>\n",
       "      <td>1005</td>\n",
       "    </tr>\n",
       "    <tr>\n",
       "      <th>coloured</th>\n",
       "      <td>623</td>\n",
       "    </tr>\n",
       "    <tr>\n",
       "      <th>salty abandoned</th>\n",
       "      <td>423</td>\n",
       "    </tr>\n",
       "    <tr>\n",
       "      <th>fluoride</th>\n",
       "      <td>244</td>\n",
       "    </tr>\n",
       "    <tr>\n",
       "      <th>fluoride abandoned</th>\n",
       "      <td>23</td>\n",
       "    </tr>\n",
       "  </tbody>\n",
       "</table>\n",
       "</div>"
      ],
      "text/plain": [
       "                    water_quality\n",
       "soft                        63505\n",
       "salty                        6082\n",
       "unknown                      2345\n",
       "milky                        1005\n",
       "coloured                      623\n",
       "salty abandoned               423\n",
       "fluoride                      244\n",
       "fluoride abandoned             23"
      ]
     },
     "metadata": {},
     "output_type": "display_data"
    },
    {
     "data": {
      "text/html": [
       "<div>\n",
       "<style scoped>\n",
       "    .dataframe tbody tr th:only-of-type {\n",
       "        vertical-align: middle;\n",
       "    }\n",
       "\n",
       "    .dataframe tbody tr th {\n",
       "        vertical-align: top;\n",
       "    }\n",
       "\n",
       "    .dataframe thead th {\n",
       "        text-align: right;\n",
       "    }\n",
       "</style>\n",
       "<table border=\"1\" class=\"dataframe\">\n",
       "  <thead>\n",
       "    <tr style=\"text-align: right;\">\n",
       "      <th></th>\n",
       "      <th>quality_group</th>\n",
       "    </tr>\n",
       "  </thead>\n",
       "  <tbody>\n",
       "    <tr>\n",
       "      <th>good</th>\n",
       "      <td>63505</td>\n",
       "    </tr>\n",
       "    <tr>\n",
       "      <th>salty</th>\n",
       "      <td>6505</td>\n",
       "    </tr>\n",
       "    <tr>\n",
       "      <th>unknown</th>\n",
       "      <td>2345</td>\n",
       "    </tr>\n",
       "    <tr>\n",
       "      <th>milky</th>\n",
       "      <td>1005</td>\n",
       "    </tr>\n",
       "    <tr>\n",
       "      <th>colored</th>\n",
       "      <td>623</td>\n",
       "    </tr>\n",
       "    <tr>\n",
       "      <th>fluoride</th>\n",
       "      <td>267</td>\n",
       "    </tr>\n",
       "  </tbody>\n",
       "</table>\n",
       "</div>"
      ],
      "text/plain": [
       "          quality_group\n",
       "good              63505\n",
       "salty              6505\n",
       "unknown            2345\n",
       "milky              1005\n",
       "colored             623\n",
       "fluoride            267"
      ]
     },
     "metadata": {},
     "output_type": "display_data"
    }
   ],
   "source": [
    "display(pd.DataFrame(dataset['water_quality'].value_counts()))\n",
    "display(pd.DataFrame(dataset['quality_group'].value_counts()))"
   ]
  },
  {
   "cell_type": "markdown",
   "metadata": {},
   "source": [
    "<div class=\"alert alert-block alert-success\">\n",
    "We will remove 'quality_group' and keep the more disaggregated 'water_quality'."
   ]
  },
  {
   "cell_type": "code",
   "execution_count": 37,
   "metadata": {},
   "outputs": [
    {
     "name": "stdout",
     "output_type": "stream",
     "text": [
      "['region_code', 'district_code', 'scheme_name', 'management', 'payment_type', 'quality_group']\n"
     ]
    }
   ],
   "source": [
    "delete_cols=delete_cols+['quality_group']\n",
    "print(delete_cols)"
   ]
  },
  {
   "cell_type": "code",
   "execution_count": 38,
   "metadata": {},
   "outputs": [
    {
     "data": {
      "text/html": [
       "<div>\n",
       "<style scoped>\n",
       "    .dataframe tbody tr th:only-of-type {\n",
       "        vertical-align: middle;\n",
       "    }\n",
       "\n",
       "    .dataframe tbody tr th {\n",
       "        vertical-align: top;\n",
       "    }\n",
       "\n",
       "    .dataframe thead th {\n",
       "        text-align: right;\n",
       "    }\n",
       "</style>\n",
       "<table border=\"1\" class=\"dataframe\">\n",
       "  <thead>\n",
       "    <tr style=\"text-align: right;\">\n",
       "      <th></th>\n",
       "      <th>quantity</th>\n",
       "    </tr>\n",
       "  </thead>\n",
       "  <tbody>\n",
       "    <tr>\n",
       "      <th>enough</th>\n",
       "      <td>41522</td>\n",
       "    </tr>\n",
       "    <tr>\n",
       "      <th>insufficient</th>\n",
       "      <td>18896</td>\n",
       "    </tr>\n",
       "    <tr>\n",
       "      <th>dry</th>\n",
       "      <td>7782</td>\n",
       "    </tr>\n",
       "    <tr>\n",
       "      <th>seasonal</th>\n",
       "      <td>5075</td>\n",
       "    </tr>\n",
       "    <tr>\n",
       "      <th>unknown</th>\n",
       "      <td>975</td>\n",
       "    </tr>\n",
       "  </tbody>\n",
       "</table>\n",
       "</div>"
      ],
      "text/plain": [
       "              quantity\n",
       "enough           41522\n",
       "insufficient     18896\n",
       "dry               7782\n",
       "seasonal          5075\n",
       "unknown            975"
      ]
     },
     "metadata": {},
     "output_type": "display_data"
    },
    {
     "data": {
      "text/html": [
       "<div>\n",
       "<style scoped>\n",
       "    .dataframe tbody tr th:only-of-type {\n",
       "        vertical-align: middle;\n",
       "    }\n",
       "\n",
       "    .dataframe tbody tr th {\n",
       "        vertical-align: top;\n",
       "    }\n",
       "\n",
       "    .dataframe thead th {\n",
       "        text-align: right;\n",
       "    }\n",
       "</style>\n",
       "<table border=\"1\" class=\"dataframe\">\n",
       "  <thead>\n",
       "    <tr style=\"text-align: right;\">\n",
       "      <th></th>\n",
       "      <th>quantity_group</th>\n",
       "    </tr>\n",
       "  </thead>\n",
       "  <tbody>\n",
       "    <tr>\n",
       "      <th>enough</th>\n",
       "      <td>41522</td>\n",
       "    </tr>\n",
       "    <tr>\n",
       "      <th>insufficient</th>\n",
       "      <td>18896</td>\n",
       "    </tr>\n",
       "    <tr>\n",
       "      <th>dry</th>\n",
       "      <td>7782</td>\n",
       "    </tr>\n",
       "    <tr>\n",
       "      <th>seasonal</th>\n",
       "      <td>5075</td>\n",
       "    </tr>\n",
       "    <tr>\n",
       "      <th>unknown</th>\n",
       "      <td>975</td>\n",
       "    </tr>\n",
       "  </tbody>\n",
       "</table>\n",
       "</div>"
      ],
      "text/plain": [
       "              quantity_group\n",
       "enough                 41522\n",
       "insufficient           18896\n",
       "dry                     7782\n",
       "seasonal                5075\n",
       "unknown                  975"
      ]
     },
     "metadata": {},
     "output_type": "display_data"
    }
   ],
   "source": [
    "display(pd.DataFrame(dataset['quantity'].value_counts()))\n",
    "display(pd.DataFrame(dataset['quantity_group'].value_counts()))"
   ]
  },
  {
   "cell_type": "code",
   "execution_count": 39,
   "metadata": {},
   "outputs": [
    {
     "data": {
      "text/plain": [
       "[41522, 18896, 7782, 5075, 975]"
      ]
     },
     "execution_count": 39,
     "metadata": {},
     "output_type": "execute_result"
    }
   ],
   "source": [
    "[len(pd.DataFrame(dataset[(dataset['quantity']=='enough')& (dataset['quantity_group']=='enough')])),\n",
    "len(pd.DataFrame(dataset[(dataset['quantity']=='insufficient')& (dataset['quantity_group']=='insufficient')])),\n",
    "len(pd.DataFrame(dataset[(dataset['quantity']=='dry')& (dataset['quantity_group']=='dry')])),\n",
    "len(pd.DataFrame(dataset[(dataset['quantity']=='seasonal')& (dataset['quantity_group']=='seasonal')])),\n",
    "len(pd.DataFrame(dataset[(dataset['quantity']=='unknown')& (dataset['quantity_group']=='unknown')]))]"
   ]
  },
  {
   "cell_type": "markdown",
   "metadata": {},
   "source": [
    "<div class=\"alert alert-block alert-success\">\n",
    "'quantity' and 'quantity_group' are the same data and will delete 'quantity_group'."
   ]
  },
  {
   "cell_type": "code",
   "execution_count": 40,
   "metadata": {},
   "outputs": [
    {
     "name": "stdout",
     "output_type": "stream",
     "text": [
      "['region_code', 'district_code', 'scheme_name', 'management', 'payment_type', 'quality_group', 'quantity_group']\n"
     ]
    }
   ],
   "source": [
    "delete_cols=delete_cols+['quantity_group']\n",
    "print(delete_cols)"
   ]
  },
  {
   "cell_type": "markdown",
   "metadata": {},
   "source": [
    "##### <font color=#0078CC>Water Point Type</font>"
   ]
  },
  {
   "cell_type": "code",
   "execution_count": 41,
   "metadata": {},
   "outputs": [
    {
     "data": {
      "text/html": [
       "<div>\n",
       "<style scoped>\n",
       "    .dataframe tbody tr th:only-of-type {\n",
       "        vertical-align: middle;\n",
       "    }\n",
       "\n",
       "    .dataframe tbody tr th {\n",
       "        vertical-align: top;\n",
       "    }\n",
       "\n",
       "    .dataframe thead th {\n",
       "        text-align: right;\n",
       "    }\n",
       "</style>\n",
       "<table border=\"1\" class=\"dataframe\">\n",
       "  <thead>\n",
       "    <tr style=\"text-align: right;\">\n",
       "      <th></th>\n",
       "      <th>waterpoint_type</th>\n",
       "    </tr>\n",
       "  </thead>\n",
       "  <tbody>\n",
       "    <tr>\n",
       "      <th>communal standpipe</th>\n",
       "      <td>35628</td>\n",
       "    </tr>\n",
       "    <tr>\n",
       "      <th>hand pump</th>\n",
       "      <td>21884</td>\n",
       "    </tr>\n",
       "    <tr>\n",
       "      <th>other</th>\n",
       "      <td>8010</td>\n",
       "    </tr>\n",
       "    <tr>\n",
       "      <th>communal standpipe multiple</th>\n",
       "      <td>7611</td>\n",
       "    </tr>\n",
       "    <tr>\n",
       "      <th>improved spring</th>\n",
       "      <td>959</td>\n",
       "    </tr>\n",
       "    <tr>\n",
       "      <th>cattle trough</th>\n",
       "      <td>150</td>\n",
       "    </tr>\n",
       "    <tr>\n",
       "      <th>dam</th>\n",
       "      <td>8</td>\n",
       "    </tr>\n",
       "  </tbody>\n",
       "</table>\n",
       "</div>"
      ],
      "text/plain": [
       "                             waterpoint_type\n",
       "communal standpipe                     35628\n",
       "hand pump                              21884\n",
       "other                                   8010\n",
       "communal standpipe multiple             7611\n",
       "improved spring                          959\n",
       "cattle trough                            150\n",
       "dam                                        8"
      ]
     },
     "metadata": {},
     "output_type": "display_data"
    },
    {
     "data": {
      "text/html": [
       "<div>\n",
       "<style scoped>\n",
       "    .dataframe tbody tr th:only-of-type {\n",
       "        vertical-align: middle;\n",
       "    }\n",
       "\n",
       "    .dataframe tbody tr th {\n",
       "        vertical-align: top;\n",
       "    }\n",
       "\n",
       "    .dataframe thead th {\n",
       "        text-align: right;\n",
       "    }\n",
       "</style>\n",
       "<table border=\"1\" class=\"dataframe\">\n",
       "  <thead>\n",
       "    <tr style=\"text-align: right;\">\n",
       "      <th></th>\n",
       "      <th>waterpoint_type_group</th>\n",
       "    </tr>\n",
       "  </thead>\n",
       "  <tbody>\n",
       "    <tr>\n",
       "      <th>communal standpipe</th>\n",
       "      <td>43239</td>\n",
       "    </tr>\n",
       "    <tr>\n",
       "      <th>hand pump</th>\n",
       "      <td>21884</td>\n",
       "    </tr>\n",
       "    <tr>\n",
       "      <th>other</th>\n",
       "      <td>8010</td>\n",
       "    </tr>\n",
       "    <tr>\n",
       "      <th>improved spring</th>\n",
       "      <td>959</td>\n",
       "    </tr>\n",
       "    <tr>\n",
       "      <th>cattle trough</th>\n",
       "      <td>150</td>\n",
       "    </tr>\n",
       "    <tr>\n",
       "      <th>dam</th>\n",
       "      <td>8</td>\n",
       "    </tr>\n",
       "  </tbody>\n",
       "</table>\n",
       "</div>"
      ],
      "text/plain": [
       "                    waterpoint_type_group\n",
       "communal standpipe                  43239\n",
       "hand pump                           21884\n",
       "other                                8010\n",
       "improved spring                       959\n",
       "cattle trough                         150\n",
       "dam                                     8"
      ]
     },
     "metadata": {},
     "output_type": "display_data"
    }
   ],
   "source": [
    "display(pd.DataFrame(dataset['waterpoint_type'].value_counts()))\n",
    "display(pd.DataFrame(dataset['waterpoint_type_group'].value_counts()))"
   ]
  },
  {
   "cell_type": "markdown",
   "metadata": {},
   "source": [
    "<div class=\"alert alert-block alert-success\">\n",
    "The only difference between 'waterpoint_type' and 'waterpoint_type_group' is the disaggregation of 'communal standpipe'. We will remove 'waterpoint_type_group' and keep the 'waterpoint_type'. "
   ]
  },
  {
   "cell_type": "code",
   "execution_count": 42,
   "metadata": {},
   "outputs": [
    {
     "name": "stdout",
     "output_type": "stream",
     "text": [
      "['region_code', 'district_code', 'scheme_name', 'management', 'payment_type', 'quality_group', 'quantity_group', 'waterpoint_type_group']\n"
     ]
    }
   ],
   "source": [
    "delete_cols=delete_cols+['waterpoint_type_group']\n",
    "print(delete_cols)"
   ]
  },
  {
   "cell_type": "markdown",
   "metadata": {},
   "source": [
    "##### <font color=#0078CC>Other Variables</font>"
   ]
  },
  {
   "cell_type": "code",
   "execution_count": 43,
   "metadata": {
    "scrolled": true
   },
   "outputs": [
    {
     "data": {
      "text/html": [
       "<div>\n",
       "<style scoped>\n",
       "    .dataframe tbody tr th:only-of-type {\n",
       "        vertical-align: middle;\n",
       "    }\n",
       "\n",
       "    .dataframe tbody tr th {\n",
       "        vertical-align: top;\n",
       "    }\n",
       "\n",
       "    .dataframe thead th {\n",
       "        text-align: right;\n",
       "    }\n",
       "</style>\n",
       "<table border=\"1\" class=\"dataframe\">\n",
       "  <thead>\n",
       "    <tr style=\"text-align: right;\">\n",
       "      <th></th>\n",
       "      <th>recorded_by</th>\n",
       "    </tr>\n",
       "  </thead>\n",
       "  <tbody>\n",
       "    <tr>\n",
       "      <th>GeoData Consultants Ltd</th>\n",
       "      <td>74250</td>\n",
       "    </tr>\n",
       "  </tbody>\n",
       "</table>\n",
       "</div>"
      ],
      "text/plain": [
       "                         recorded_by\n",
       "GeoData Consultants Ltd        74250"
      ]
     },
     "execution_count": 43,
     "metadata": {},
     "output_type": "execute_result"
    }
   ],
   "source": [
    "pd.DataFrame(dataset['recorded_by'].value_counts())"
   ]
  },
  {
   "cell_type": "markdown",
   "metadata": {},
   "source": [
    "<div class=\"alert alert-block alert-success\">\n",
    "All data is collected by 'GeoData Consultants Ltd' and this variable doesn't give much insight into the water point, thus is removed."
   ]
  },
  {
   "cell_type": "code",
   "execution_count": 44,
   "metadata": {},
   "outputs": [],
   "source": [
    "delete_cols=delete_cols+['recorded_by']"
   ]
  },
  {
   "cell_type": "code",
   "execution_count": 45,
   "metadata": {},
   "outputs": [
    {
     "data": {
      "text/plain": [
       "True     48606\n",
       "False    21851\n",
       "Name: permit, dtype: int64"
      ]
     },
     "execution_count": 45,
     "metadata": {},
     "output_type": "execute_result"
    }
   ],
   "source": [
    "dataset['permit'].value_counts()"
   ]
  },
  {
   "cell_type": "markdown",
   "metadata": {},
   "source": [
    "<div class=\"alert alert-block alert-success\">\n",
    "There is no clear definition of what **num_private** means and 99% of the observations are zero thus we can ignore it from our model, as we wouldn't have meaningful interpretation. Similarly 'wtp_name' is not relevant for analysis or prediction. "
   ]
  },
  {
   "cell_type": "markdown",
   "metadata": {},
   "source": [
    "<div class=\"alert alert-block alert-success\">\n",
    "'funder' and 'installer' are highly cardinal variables and might not be sufficient information to bin them into meaningful groups, as such modeling with them will not add values. However, we can use them to cluster our data and impute missing values and get some insights in exploration, after which can be discarded. "
   ]
  },
  {
   "cell_type": "code",
   "execution_count": 46,
   "metadata": {},
   "outputs": [
    {
     "name": "stdout",
     "output_type": "stream",
     "text": [
      "['region_code', 'district_code', 'scheme_name', 'management', 'payment_type', 'quality_group', 'quantity_group', 'waterpoint_type_group', 'recorded_by', 'num_private', 'wpt_name']\n"
     ]
    }
   ],
   "source": [
    "delete_cols=delete_cols+['num_private','wpt_name']\n",
    "print(delete_cols)"
   ]
  },
  {
   "cell_type": "markdown",
   "metadata": {},
   "source": [
    "#### <font color=#0078CC> Checking Duplicates</font>"
   ]
  },
  {
   "cell_type": "markdown",
   "metadata": {},
   "source": [
    "We have no duplicated rows in our dataset."
   ]
  },
  {
   "cell_type": "code",
   "execution_count": 47,
   "metadata": {},
   "outputs": [
    {
     "data": {
      "text/plain": [
       "0"
      ]
     },
     "execution_count": 47,
     "metadata": {},
     "output_type": "execute_result"
    }
   ],
   "source": [
    "len(pd.DataFrame(dataset[dataset[\"id\"].duplicated()]))"
   ]
  },
  {
   "cell_type": "markdown",
   "metadata": {},
   "source": [
    "### 3.2. Removing Irrelevant and Redundant Features"
   ]
  },
  {
   "cell_type": "markdown",
   "metadata": {},
   "source": [
    "Based on the finding above the features found to have been redundant or irrelevant are removed below."
   ]
  },
  {
   "cell_type": "code",
   "execution_count": 48,
   "metadata": {},
   "outputs": [
    {
     "data": {
      "text/plain": [
       "(74250, 31)"
      ]
     },
     "execution_count": 48,
     "metadata": {},
     "output_type": "execute_result"
    }
   ],
   "source": [
    "dataset.drop(delete_cols, axis=1, inplace=True)\n",
    "dataset.shape"
   ]
  },
  {
   "cell_type": "markdown",
   "metadata": {},
   "source": [
    "### 3.3. Setting NAs"
   ]
  },
  {
   "cell_type": "markdown",
   "metadata": {},
   "source": [
    "Below we replace all the zeros to NAs."
   ]
  },
  {
   "cell_type": "markdown",
   "metadata": {},
   "source": [
    "Following the finding above we will change the variables with zeros, unknowns and erros."
   ]
  },
  {
   "cell_type": "code",
   "execution_count": 49,
   "metadata": {},
   "outputs": [],
   "source": [
    "zero_cols = ['amount_tsh','population','gps_height','construction_year','funder','installer','longitude']\n",
    "dataset[zero_cols] = dataset[zero_cols].replace({'0':np.nan, 0:np.nan})"
   ]
  },
  {
   "cell_type": "code",
   "execution_count": 50,
   "metadata": {},
   "outputs": [],
   "source": [
    "dataset= dataset.replace({'unknown':np.nan})"
   ]
  },
  {
   "cell_type": "code",
   "execution_count": 51,
   "metadata": {},
   "outputs": [
    {
     "name": "stderr",
     "output_type": "stream",
     "text": [
      "C:\\ProgramData\\Anaconda3\\lib\\site-packages\\ipykernel_launcher.py:1: SettingWithCopyWarning: \n",
      "A value is trying to be set on a copy of a slice from a DataFrame\n",
      "\n",
      "See the caveats in the documentation: http://pandas.pydata.org/pandas-docs/stable/user_guide/indexing.html#returning-a-view-versus-a-copy\n",
      "  \"\"\"Entry point for launching an IPython kernel.\n"
     ]
    }
   ],
   "source": [
    "dataset['latitude'][(dataset['latitude']> -1) | (dataset['latitude']<-12)]=np.nan"
   ]
  },
  {
   "cell_type": "code",
   "execution_count": 52,
   "metadata": {},
   "outputs": [
    {
     "data": {
      "text/html": [
       "<div>\n",
       "<style scoped>\n",
       "    .dataframe tbody tr th:only-of-type {\n",
       "        vertical-align: middle;\n",
       "    }\n",
       "\n",
       "    .dataframe tbody tr th {\n",
       "        vertical-align: top;\n",
       "    }\n",
       "\n",
       "    .dataframe thead th {\n",
       "        text-align: right;\n",
       "    }\n",
       "</style>\n",
       "<table border=\"1\" class=\"dataframe\">\n",
       "  <thead>\n",
       "    <tr style=\"text-align: right;\">\n",
       "      <th></th>\n",
       "      <th>missing count</th>\n",
       "      <th>proportion</th>\n",
       "    </tr>\n",
       "  </thead>\n",
       "  <tbody>\n",
       "    <tr>\n",
       "      <th>amount_tsh</th>\n",
       "      <td>52049</td>\n",
       "      <td>70.099663</td>\n",
       "    </tr>\n",
       "    <tr>\n",
       "      <th>funder</th>\n",
       "      <td>5484</td>\n",
       "      <td>7.385859</td>\n",
       "    </tr>\n",
       "    <tr>\n",
       "      <th>gps_height</th>\n",
       "      <td>25649</td>\n",
       "      <td>34.544108</td>\n",
       "    </tr>\n",
       "    <tr>\n",
       "      <th>installer</th>\n",
       "      <td>5513</td>\n",
       "      <td>7.424916</td>\n",
       "    </tr>\n",
       "    <tr>\n",
       "      <th>longitude</th>\n",
       "      <td>2269</td>\n",
       "      <td>3.055892</td>\n",
       "    </tr>\n",
       "    <tr>\n",
       "      <th>latitude</th>\n",
       "      <td>2277</td>\n",
       "      <td>3.066667</td>\n",
       "    </tr>\n",
       "    <tr>\n",
       "      <th>subvillage</th>\n",
       "      <td>470</td>\n",
       "      <td>0.632997</td>\n",
       "    </tr>\n",
       "    <tr>\n",
       "      <th>population</th>\n",
       "      <td>26834</td>\n",
       "      <td>36.140067</td>\n",
       "    </tr>\n",
       "    <tr>\n",
       "      <th>public_meeting</th>\n",
       "      <td>4155</td>\n",
       "      <td>5.595960</td>\n",
       "    </tr>\n",
       "    <tr>\n",
       "      <th>scheme_management</th>\n",
       "      <td>4846</td>\n",
       "      <td>6.526599</td>\n",
       "    </tr>\n",
       "    <tr>\n",
       "      <th>permit</th>\n",
       "      <td>3793</td>\n",
       "      <td>5.108418</td>\n",
       "    </tr>\n",
       "    <tr>\n",
       "      <th>construction_year</th>\n",
       "      <td>25969</td>\n",
       "      <td>34.975084</td>\n",
       "    </tr>\n",
       "    <tr>\n",
       "      <th>management_group</th>\n",
       "      <td>683</td>\n",
       "      <td>0.919865</td>\n",
       "    </tr>\n",
       "    <tr>\n",
       "      <th>payment</th>\n",
       "      <td>10149</td>\n",
       "      <td>13.668687</td>\n",
       "    </tr>\n",
       "    <tr>\n",
       "      <th>water_quality</th>\n",
       "      <td>2345</td>\n",
       "      <td>3.158249</td>\n",
       "    </tr>\n",
       "    <tr>\n",
       "      <th>quantity</th>\n",
       "      <td>975</td>\n",
       "      <td>1.313131</td>\n",
       "    </tr>\n",
       "    <tr>\n",
       "      <th>source</th>\n",
       "      <td>86</td>\n",
       "      <td>0.115825</td>\n",
       "    </tr>\n",
       "    <tr>\n",
       "      <th>source_class</th>\n",
       "      <td>347</td>\n",
       "      <td>0.467340</td>\n",
       "    </tr>\n",
       "  </tbody>\n",
       "</table>\n",
       "</div>"
      ],
      "text/plain": [
       "                   missing count  proportion\n",
       "amount_tsh                 52049   70.099663\n",
       "funder                      5484    7.385859\n",
       "gps_height                 25649   34.544108\n",
       "installer                   5513    7.424916\n",
       "longitude                   2269    3.055892\n",
       "latitude                    2277    3.066667\n",
       "subvillage                   470    0.632997\n",
       "population                 26834   36.140067\n",
       "public_meeting              4155    5.595960\n",
       "scheme_management           4846    6.526599\n",
       "permit                      3793    5.108418\n",
       "construction_year          25969   34.975084\n",
       "management_group             683    0.919865\n",
       "payment                    10149   13.668687\n",
       "water_quality               2345    3.158249\n",
       "quantity                     975    1.313131\n",
       "source                        86    0.115825\n",
       "source_class                 347    0.467340"
      ]
     },
     "execution_count": 52,
     "metadata": {},
     "output_type": "execute_result"
    }
   ],
   "source": [
    "NaNSummary=pd.DataFrame(dataset.isna().sum()[dataset.isna().sum().ne(0)]) \n",
    "NaNSummary['missing count']=NaNSummary[0]\n",
    "NaNSummary['proportion']=NaNSummary['missing count']/74250*100\n",
    "# NaNSummary['proportion'].round()\n",
    "del NaNSummary[0]\n",
    "\n",
    "NaNSummary"
   ]
  },
  {
   "cell_type": "markdown",
   "metadata": {},
   "source": [
    "#### <font color=#0078CC>Defining Features with Missing Values</font>"
   ]
  },
  {
   "cell_type": "code",
   "execution_count": 53,
   "metadata": {},
   "outputs": [],
   "source": [
    "colums_with_na = list(dataset.isna().sum()[dataset.isna().sum().ne(0)].index)\n",
    "colums_with_na_names = [s + '_na' for s in colums_with_na]\n",
    "\n",
    "dataset[colums_with_na_names] = dataset[colums_with_na].isna()*1"
   ]
  },
  {
   "cell_type": "markdown",
   "metadata": {},
   "source": [
    "##### <font color=#0078CC>Date</font>"
   ]
  },
  {
   "cell_type": "markdown",
   "metadata": {},
   "source": [
    "Below we substring **date_recorded** to get **year_recorded** and then we remove **date_recorded** as we dont need the specific data recorded to train model."
   ]
  },
  {
   "cell_type": "code",
   "execution_count": 54,
   "metadata": {},
   "outputs": [],
   "source": [
    "dataset['year_recorded'] = dataset['date_recorded'].str[:4]"
   ]
  },
  {
   "cell_type": "code",
   "execution_count": 55,
   "metadata": {
    "scrolled": true
   },
   "outputs": [],
   "source": [
    "del dataset[\"date_recorded\"]"
   ]
  },
  {
   "cell_type": "markdown",
   "metadata": {},
   "source": [
    "### 3.4. Outliers <a class=\"anchor\" id=\"third1-bullet\"></a>"
   ]
  },
  {
   "cell_type": "markdown",
   "metadata": {},
   "source": [
    "Before imputing the missing values, first the outliers will be checked excluding the missing values to make sure don impute based on them. "
   ]
  },
  {
   "cell_type": "code",
   "execution_count": 56,
   "metadata": {},
   "outputs": [
    {
     "data": {
      "text/html": [
       "<div>\n",
       "<style scoped>\n",
       "    .dataframe tbody tr th:only-of-type {\n",
       "        vertical-align: middle;\n",
       "    }\n",
       "\n",
       "    .dataframe tbody tr th {\n",
       "        vertical-align: top;\n",
       "    }\n",
       "\n",
       "    .dataframe thead th {\n",
       "        text-align: right;\n",
       "    }\n",
       "</style>\n",
       "<table border=\"1\" class=\"dataframe\">\n",
       "  <thead>\n",
       "    <tr style=\"text-align: right;\">\n",
       "      <th></th>\n",
       "      <th>amount_tsh</th>\n",
       "      <th>gps_height</th>\n",
       "      <th>longitude</th>\n",
       "      <th>latitude</th>\n",
       "      <th>population</th>\n",
       "      <th>construction_year</th>\n",
       "      <th>amount_tsh_na</th>\n",
       "      <th>funder_na</th>\n",
       "      <th>gps_height_na</th>\n",
       "      <th>installer_na</th>\n",
       "      <th>...</th>\n",
       "      <th>public_meeting_na</th>\n",
       "      <th>scheme_management_na</th>\n",
       "      <th>permit_na</th>\n",
       "      <th>construction_year_na</th>\n",
       "      <th>management_group_na</th>\n",
       "      <th>payment_na</th>\n",
       "      <th>water_quality_na</th>\n",
       "      <th>quantity_na</th>\n",
       "      <th>source_na</th>\n",
       "      <th>source_class_na</th>\n",
       "    </tr>\n",
       "  </thead>\n",
       "  <tbody>\n",
       "    <tr>\n",
       "      <th>count</th>\n",
       "      <td>22201.000000</td>\n",
       "      <td>48601.000000</td>\n",
       "      <td>71981.000000</td>\n",
       "      <td>71973.000000</td>\n",
       "      <td>47416.000000</td>\n",
       "      <td>48281.000000</td>\n",
       "      <td>74250.000000</td>\n",
       "      <td>74250.000000</td>\n",
       "      <td>74250.000000</td>\n",
       "      <td>74250.000000</td>\n",
       "      <td>...</td>\n",
       "      <td>74250.000000</td>\n",
       "      <td>74250.000000</td>\n",
       "      <td>74250.000000</td>\n",
       "      <td>74250.000000</td>\n",
       "      <td>74250.000000</td>\n",
       "      <td>74250.000000</td>\n",
       "      <td>74250.000000</td>\n",
       "      <td>74250.000000</td>\n",
       "      <td>74250.000000</td>\n",
       "      <td>74250.000000</td>\n",
       "    </tr>\n",
       "    <tr>\n",
       "      <th>mean</th>\n",
       "      <td>1065.826474</td>\n",
       "      <td>1016.970803</td>\n",
       "      <td>35.148358</td>\n",
       "      <td>-5.882046</td>\n",
       "      <td>283.042623</td>\n",
       "      <td>1996.870943</td>\n",
       "      <td>0.700997</td>\n",
       "      <td>0.073859</td>\n",
       "      <td>0.345441</td>\n",
       "      <td>0.074249</td>\n",
       "      <td>...</td>\n",
       "      <td>0.055960</td>\n",
       "      <td>0.065266</td>\n",
       "      <td>0.051084</td>\n",
       "      <td>0.349751</td>\n",
       "      <td>0.009199</td>\n",
       "      <td>0.136687</td>\n",
       "      <td>0.031582</td>\n",
       "      <td>0.013131</td>\n",
       "      <td>0.001158</td>\n",
       "      <td>0.004673</td>\n",
       "    </tr>\n",
       "    <tr>\n",
       "      <th>std</th>\n",
       "      <td>5240.480449</td>\n",
       "      <td>613.127399</td>\n",
       "      <td>2.608924</td>\n",
       "      <td>2.808443</td>\n",
       "      <td>564.413842</td>\n",
       "      <td>12.440524</td>\n",
       "      <td>0.457824</td>\n",
       "      <td>0.261542</td>\n",
       "      <td>0.475515</td>\n",
       "      <td>0.262178</td>\n",
       "      <td>...</td>\n",
       "      <td>0.229845</td>\n",
       "      <td>0.246996</td>\n",
       "      <td>0.220171</td>\n",
       "      <td>0.476894</td>\n",
       "      <td>0.095468</td>\n",
       "      <td>0.343519</td>\n",
       "      <td>0.174887</td>\n",
       "      <td>0.113838</td>\n",
       "      <td>0.034014</td>\n",
       "      <td>0.068203</td>\n",
       "    </tr>\n",
       "    <tr>\n",
       "      <th>min</th>\n",
       "      <td>0.200000</td>\n",
       "      <td>-90.000000</td>\n",
       "      <td>29.607122</td>\n",
       "      <td>-11.649440</td>\n",
       "      <td>1.000000</td>\n",
       "      <td>1960.000000</td>\n",
       "      <td>0.000000</td>\n",
       "      <td>0.000000</td>\n",
       "      <td>0.000000</td>\n",
       "      <td>0.000000</td>\n",
       "      <td>...</td>\n",
       "      <td>0.000000</td>\n",
       "      <td>0.000000</td>\n",
       "      <td>0.000000</td>\n",
       "      <td>0.000000</td>\n",
       "      <td>0.000000</td>\n",
       "      <td>0.000000</td>\n",
       "      <td>0.000000</td>\n",
       "      <td>0.000000</td>\n",
       "      <td>0.000000</td>\n",
       "      <td>0.000000</td>\n",
       "    </tr>\n",
       "    <tr>\n",
       "      <th>25%</th>\n",
       "      <td>50.000000</td>\n",
       "      <td>390.000000</td>\n",
       "      <td>33.277747</td>\n",
       "      <td>-8.632675</td>\n",
       "      <td>40.000000</td>\n",
       "      <td>1988.000000</td>\n",
       "      <td>0.000000</td>\n",
       "      <td>0.000000</td>\n",
       "      <td>0.000000</td>\n",
       "      <td>0.000000</td>\n",
       "      <td>...</td>\n",
       "      <td>0.000000</td>\n",
       "      <td>0.000000</td>\n",
       "      <td>0.000000</td>\n",
       "      <td>0.000000</td>\n",
       "      <td>0.000000</td>\n",
       "      <td>0.000000</td>\n",
       "      <td>0.000000</td>\n",
       "      <td>0.000000</td>\n",
       "      <td>0.000000</td>\n",
       "      <td>0.000000</td>\n",
       "    </tr>\n",
       "    <tr>\n",
       "      <th>50%</th>\n",
       "      <td>250.000000</td>\n",
       "      <td>1166.000000</td>\n",
       "      <td>35.007072</td>\n",
       "      <td>-5.174422</td>\n",
       "      <td>150.000000</td>\n",
       "      <td>2000.000000</td>\n",
       "      <td>1.000000</td>\n",
       "      <td>0.000000</td>\n",
       "      <td>0.000000</td>\n",
       "      <td>0.000000</td>\n",
       "      <td>...</td>\n",
       "      <td>0.000000</td>\n",
       "      <td>0.000000</td>\n",
       "      <td>0.000000</td>\n",
       "      <td>0.000000</td>\n",
       "      <td>0.000000</td>\n",
       "      <td>0.000000</td>\n",
       "      <td>0.000000</td>\n",
       "      <td>0.000000</td>\n",
       "      <td>0.000000</td>\n",
       "      <td>0.000000</td>\n",
       "    </tr>\n",
       "    <tr>\n",
       "      <th>75%</th>\n",
       "      <td>1000.000000</td>\n",
       "      <td>1497.000000</td>\n",
       "      <td>37.237383</td>\n",
       "      <td>-3.372008</td>\n",
       "      <td>328.000000</td>\n",
       "      <td>2008.000000</td>\n",
       "      <td>1.000000</td>\n",
       "      <td>0.000000</td>\n",
       "      <td>1.000000</td>\n",
       "      <td>0.000000</td>\n",
       "      <td>...</td>\n",
       "      <td>0.000000</td>\n",
       "      <td>0.000000</td>\n",
       "      <td>0.000000</td>\n",
       "      <td>1.000000</td>\n",
       "      <td>0.000000</td>\n",
       "      <td>0.000000</td>\n",
       "      <td>0.000000</td>\n",
       "      <td>0.000000</td>\n",
       "      <td>0.000000</td>\n",
       "      <td>0.000000</td>\n",
       "    </tr>\n",
       "    <tr>\n",
       "      <th>max</th>\n",
       "      <td>350000.000000</td>\n",
       "      <td>2777.000000</td>\n",
       "      <td>40.345193</td>\n",
       "      <td>-1.000585</td>\n",
       "      <td>30500.000000</td>\n",
       "      <td>2013.000000</td>\n",
       "      <td>1.000000</td>\n",
       "      <td>1.000000</td>\n",
       "      <td>1.000000</td>\n",
       "      <td>1.000000</td>\n",
       "      <td>...</td>\n",
       "      <td>1.000000</td>\n",
       "      <td>1.000000</td>\n",
       "      <td>1.000000</td>\n",
       "      <td>1.000000</td>\n",
       "      <td>1.000000</td>\n",
       "      <td>1.000000</td>\n",
       "      <td>1.000000</td>\n",
       "      <td>1.000000</td>\n",
       "      <td>1.000000</td>\n",
       "      <td>1.000000</td>\n",
       "    </tr>\n",
       "  </tbody>\n",
       "</table>\n",
       "<p>8 rows × 24 columns</p>\n",
       "</div>"
      ],
      "text/plain": [
       "          amount_tsh    gps_height     longitude      latitude    population  \\\n",
       "count   22201.000000  48601.000000  71981.000000  71973.000000  47416.000000   \n",
       "mean     1065.826474   1016.970803     35.148358     -5.882046    283.042623   \n",
       "std      5240.480449    613.127399      2.608924      2.808443    564.413842   \n",
       "min         0.200000    -90.000000     29.607122    -11.649440      1.000000   \n",
       "25%        50.000000    390.000000     33.277747     -8.632675     40.000000   \n",
       "50%       250.000000   1166.000000     35.007072     -5.174422    150.000000   \n",
       "75%      1000.000000   1497.000000     37.237383     -3.372008    328.000000   \n",
       "max    350000.000000   2777.000000     40.345193     -1.000585  30500.000000   \n",
       "\n",
       "       construction_year  amount_tsh_na     funder_na  gps_height_na  \\\n",
       "count       48281.000000   74250.000000  74250.000000   74250.000000   \n",
       "mean         1996.870943       0.700997      0.073859       0.345441   \n",
       "std            12.440524       0.457824      0.261542       0.475515   \n",
       "min          1960.000000       0.000000      0.000000       0.000000   \n",
       "25%          1988.000000       0.000000      0.000000       0.000000   \n",
       "50%          2000.000000       1.000000      0.000000       0.000000   \n",
       "75%          2008.000000       1.000000      0.000000       1.000000   \n",
       "max          2013.000000       1.000000      1.000000       1.000000   \n",
       "\n",
       "       installer_na  ...  public_meeting_na  scheme_management_na  \\\n",
       "count  74250.000000  ...       74250.000000          74250.000000   \n",
       "mean       0.074249  ...           0.055960              0.065266   \n",
       "std        0.262178  ...           0.229845              0.246996   \n",
       "min        0.000000  ...           0.000000              0.000000   \n",
       "25%        0.000000  ...           0.000000              0.000000   \n",
       "50%        0.000000  ...           0.000000              0.000000   \n",
       "75%        0.000000  ...           0.000000              0.000000   \n",
       "max        1.000000  ...           1.000000              1.000000   \n",
       "\n",
       "          permit_na  construction_year_na  management_group_na    payment_na  \\\n",
       "count  74250.000000          74250.000000         74250.000000  74250.000000   \n",
       "mean       0.051084              0.349751             0.009199      0.136687   \n",
       "std        0.220171              0.476894             0.095468      0.343519   \n",
       "min        0.000000              0.000000             0.000000      0.000000   \n",
       "25%        0.000000              0.000000             0.000000      0.000000   \n",
       "50%        0.000000              0.000000             0.000000      0.000000   \n",
       "75%        0.000000              1.000000             0.000000      0.000000   \n",
       "max        1.000000              1.000000             1.000000      1.000000   \n",
       "\n",
       "       water_quality_na   quantity_na     source_na  source_class_na  \n",
       "count      74250.000000  74250.000000  74250.000000     74250.000000  \n",
       "mean           0.031582      0.013131      0.001158         0.004673  \n",
       "std            0.174887      0.113838      0.034014         0.068203  \n",
       "min            0.000000      0.000000      0.000000         0.000000  \n",
       "25%            0.000000      0.000000      0.000000         0.000000  \n",
       "50%            0.000000      0.000000      0.000000         0.000000  \n",
       "75%            0.000000      0.000000      0.000000         0.000000  \n",
       "max            1.000000      1.000000      1.000000         1.000000  \n",
       "\n",
       "[8 rows x 24 columns]"
      ]
     },
     "execution_count": 56,
     "metadata": {},
     "output_type": "execute_result"
    }
   ],
   "source": [
    "dataset.describe()"
   ]
  },
  {
   "cell_type": "code",
   "execution_count": 57,
   "metadata": {},
   "outputs": [],
   "source": [
    "nonan_dataset1=dataset[dataset['amount_tsh'].notna()]\n",
    "nonan_dataset2=dataset[dataset['gps_height'].notna()]\n",
    "nonan_dataset3=dataset[dataset['population'].notna()]"
   ]
  },
  {
   "cell_type": "code",
   "execution_count": 58,
   "metadata": {},
   "outputs": [
    {
     "data": {
      "text/plain": [
       "Text(0.5, 1.0, 'Population Around the Well')"
      ]
     },
     "execution_count": 58,
     "metadata": {},
     "output_type": "execute_result"
    },
    {
     "data": {
      "image/png": "[encoded data removed]",
      "text/plain": [
       "<Figure size 1440x360 with 3 Axes>"
      ]
     },
     "metadata": {
      "needs_background": "light"
     },
     "output_type": "display_data"
    }
   ],
   "source": [
    "fig, axs = plt.subplots(1, 3, figsize = (20, 5))\n",
    "axs[0].boxplot(nonan_dataset1['amount_tsh'])\n",
    "axs[0].set_title('Total Static Head')\n",
    "axs[1].boxplot(nonan_dataset2['gps_height'])\n",
    "axs[1].set_title('gps_height')\n",
    "axs[2].boxplot(nonan_dataset3['population'])\n",
    "axs[2].set_title('Population Around the Well')"
   ]
  },
  {
   "cell_type": "code",
   "execution_count": 59,
   "metadata": {},
   "outputs": [
    {
     "data": {
      "text/plain": [
       "amount_tsh    2058\n",
       "population    3105\n",
       "dtype: int64"
      ]
     },
     "execution_count": 59,
     "metadata": {},
     "output_type": "execute_result"
    }
   ],
   "source": [
    "sub_dataset=dataset[['amount_tsh','population']]\n",
    "Q1 = sub_dataset.quantile(0.25)\n",
    "Q3 = sub_dataset.quantile(0.75)\n",
    "IQR = Q3 - Q1\n",
    "\n",
    "((sub_dataset < (Q1 - 1.5 * IQR)) | (sub_dataset > (Q3 + 1.5 * IQR))).sum()"
   ]
  },
  {
   "cell_type": "markdown",
   "metadata": {},
   "source": [
    "Eventhough according to the quantile calculation we find several outliers in **amount_tsh** and **population**, we don't have enough information regarding the static head amount and what would be regarded as the maximum amount thus we can not assume that these values are errors or outliers. \n",
    "Similarly, with population surrounding the well could go as high as 30000 so we don't have enough justification with the amount of missing values that we have to regard these as outliers or errors. \n",
    "\n",
    "With binning we can create categories for this values so that out model can train and predict on them in the cases that they do come up."
   ]
  },
  {
   "cell_type": "markdown",
   "metadata": {},
   "source": [
    "### 3.5. Imputing Missing Values  <a class=\"anchor\" id=\"third2-bullet\"></a>"
   ]
  },
  {
   "cell_type": "markdown",
   "metadata": {},
   "source": [
    "##### <font color=#0078CC>KMode Clustering<font/>"
   ]
  },
  {
   "cell_type": "markdown",
   "metadata": {},
   "source": [
    "A variation of k-means, **k-modes** method, will be used for clustering. This is because the dataset is primarily categorical variables and calculating distance between categorical variables is not applicable unless dummified, this alternative is chosen. \n",
    "\n",
    "Clusters will be created in this method, by first excluding the features that have missing values then merge the new cluster column back with the found clusters. Then for each missing value we will use the mode in its respective cluster for that feature to impute it. \n",
    "\n",
    "The kmodes minimizes the sum of feature values differences within-cluster. We will set the initializer at 'random' so that the initial centroids will be picked at random and run it 10 times with different centroid seeds. The final results will be the best output of n_init consecutive runs in terms of cost.\n",
    "\n",
    "To choose the number of clusters in kmode there isn't a good method to decide the optimal number, so to decided to compare between creating 5, 6, and 7 clusters and compare the best iterations in eachone using the cost and the cluster feature values.\n",
    "\n",
    "cost_(Clustering cost) is defined as the sum distance of all points totheir respective cluster centroids. In other words, distance within the cluster. We will aim to minimize this.\n",
    "\n",
    "https://github.com/nicodv/kmodes/blob/master/kmodes/kprototypes.py#L365"
   ]
  },
  {
   "cell_type": "code",
   "execution_count": 60,
   "metadata": {},
   "outputs": [
    {
     "data": {
      "text/plain": [
       "(59400, 12)"
      ]
     },
     "execution_count": 60,
     "metadata": {},
     "output_type": "execute_result"
    }
   ],
   "source": [
    "#Removing features that have empty values\n",
    "\n",
    "train_clust=dataset.dropna(axis='columns')\n",
    "train_clust=train_clust[train_clust['data_set']=='train']  #using only trainset to find clusters\n",
    "train_clust=train_clust.drop(colums_with_na_names,axis=1)  #exlude columns with na set\n",
    "del train_clust['data_set']\n",
    "\n",
    "# train_clust.drop(colums_with_na_names, axis=1, inplace=True)\n",
    "train_clust.shape"
   ]
  },
  {
   "cell_type": "code",
   "execution_count": 61,
   "metadata": {},
   "outputs": [
    {
     "data": {
      "text/html": [
       "<div>\n",
       "<style scoped>\n",
       "    .dataframe tbody tr th:only-of-type {\n",
       "        vertical-align: middle;\n",
       "    }\n",
       "\n",
       "    .dataframe tbody tr th {\n",
       "        vertical-align: top;\n",
       "    }\n",
       "\n",
       "    .dataframe thead th {\n",
       "        text-align: right;\n",
       "    }\n",
       "</style>\n",
       "<table border=\"1\" class=\"dataframe\">\n",
       "  <thead>\n",
       "    <tr style=\"text-align: right;\">\n",
       "      <th></th>\n",
       "      <th>id</th>\n",
       "      <th>basin</th>\n",
       "      <th>region</th>\n",
       "      <th>lga</th>\n",
       "      <th>ward</th>\n",
       "      <th>extraction_type</th>\n",
       "      <th>extraction_type_group</th>\n",
       "      <th>extraction_type_class</th>\n",
       "      <th>source_type</th>\n",
       "      <th>waterpoint_type</th>\n",
       "      <th>status_group</th>\n",
       "      <th>year_recorded</th>\n",
       "    </tr>\n",
       "  </thead>\n",
       "  <tbody>\n",
       "    <tr>\n",
       "      <th>0</th>\n",
       "      <td>69572</td>\n",
       "      <td>Lake Nyasa</td>\n",
       "      <td>Iringa</td>\n",
       "      <td>Ludewa</td>\n",
       "      <td>Mundindi</td>\n",
       "      <td>gravity</td>\n",
       "      <td>gravity</td>\n",
       "      <td>gravity</td>\n",
       "      <td>spring</td>\n",
       "      <td>communal standpipe</td>\n",
       "      <td>functional</td>\n",
       "      <td>2011</td>\n",
       "    </tr>\n",
       "    <tr>\n",
       "      <th>1</th>\n",
       "      <td>8776</td>\n",
       "      <td>Lake Victoria</td>\n",
       "      <td>Mara</td>\n",
       "      <td>Serengeti</td>\n",
       "      <td>Natta</td>\n",
       "      <td>gravity</td>\n",
       "      <td>gravity</td>\n",
       "      <td>gravity</td>\n",
       "      <td>rainwater harvesting</td>\n",
       "      <td>communal standpipe</td>\n",
       "      <td>functional</td>\n",
       "      <td>2013</td>\n",
       "    </tr>\n",
       "    <tr>\n",
       "      <th>2</th>\n",
       "      <td>34310</td>\n",
       "      <td>Pangani</td>\n",
       "      <td>Manyara</td>\n",
       "      <td>Simanjiro</td>\n",
       "      <td>Ngorika</td>\n",
       "      <td>gravity</td>\n",
       "      <td>gravity</td>\n",
       "      <td>gravity</td>\n",
       "      <td>dam</td>\n",
       "      <td>communal standpipe multiple</td>\n",
       "      <td>functional</td>\n",
       "      <td>2013</td>\n",
       "    </tr>\n",
       "    <tr>\n",
       "      <th>3</th>\n",
       "      <td>67743</td>\n",
       "      <td>Ruvuma / Southern Coast</td>\n",
       "      <td>Mtwara</td>\n",
       "      <td>Nanyumbu</td>\n",
       "      <td>Nanyumbu</td>\n",
       "      <td>submersible</td>\n",
       "      <td>submersible</td>\n",
       "      <td>submersible</td>\n",
       "      <td>borehole</td>\n",
       "      <td>communal standpipe multiple</td>\n",
       "      <td>non functional</td>\n",
       "      <td>2013</td>\n",
       "    </tr>\n",
       "    <tr>\n",
       "      <th>4</th>\n",
       "      <td>19728</td>\n",
       "      <td>Lake Victoria</td>\n",
       "      <td>Kagera</td>\n",
       "      <td>Karagwe</td>\n",
       "      <td>Nyakasimbi</td>\n",
       "      <td>gravity</td>\n",
       "      <td>gravity</td>\n",
       "      <td>gravity</td>\n",
       "      <td>rainwater harvesting</td>\n",
       "      <td>communal standpipe</td>\n",
       "      <td>functional</td>\n",
       "      <td>2011</td>\n",
       "    </tr>\n",
       "  </tbody>\n",
       "</table>\n",
       "</div>"
      ],
      "text/plain": [
       "      id                    basin   region        lga        ward  \\\n",
       "0  69572               Lake Nyasa   Iringa     Ludewa    Mundindi   \n",
       "1   8776            Lake Victoria     Mara  Serengeti       Natta   \n",
       "2  34310                  Pangani  Manyara  Simanjiro     Ngorika   \n",
       "3  67743  Ruvuma / Southern Coast   Mtwara   Nanyumbu    Nanyumbu   \n",
       "4  19728            Lake Victoria   Kagera    Karagwe  Nyakasimbi   \n",
       "\n",
       "  extraction_type extraction_type_group extraction_type_class  \\\n",
       "0         gravity               gravity               gravity   \n",
       "1         gravity               gravity               gravity   \n",
       "2         gravity               gravity               gravity   \n",
       "3     submersible           submersible           submersible   \n",
       "4         gravity               gravity               gravity   \n",
       "\n",
       "            source_type              waterpoint_type    status_group  \\\n",
       "0                spring           communal standpipe      functional   \n",
       "1  rainwater harvesting           communal standpipe      functional   \n",
       "2                   dam  communal standpipe multiple      functional   \n",
       "3              borehole  communal standpipe multiple  non functional   \n",
       "4  rainwater harvesting           communal standpipe      functional   \n",
       "\n",
       "  year_recorded  \n",
       "0          2011  \n",
       "1          2013  \n",
       "2          2013  \n",
       "3          2013  \n",
       "4          2011  "
      ]
     },
     "execution_count": 61,
     "metadata": {},
     "output_type": "execute_result"
    }
   ],
   "source": [
    "train_clust.head()"
   ]
  },
  {
   "cell_type": "code",
   "execution_count": 62,
   "metadata": {
    "scrolled": true
   },
   "outputs": [
    {
     "name": "stdout",
     "output_type": "stream",
     "text": [
      "Init: initializing centroids\n",
      "Init: initializing clusters\n",
      "Starting iterations...\n",
      "Run 1, iteration: 1/100, moves: 14676, cost: 282500.0\n",
      "Run 1, iteration: 2/100, moves: 1174, cost: 282360.0\n",
      "Run 1, iteration: 3/100, moves: 14, cost: 282360.0\n",
      "Init: initializing centroids\n",
      "Init: initializing clusters\n",
      "Starting iterations...\n",
      "Run 2, iteration: 1/100, moves: 19460, cost: 283834.0\n",
      "Run 2, iteration: 2/100, moves: 3654, cost: 282313.0\n",
      "Run 2, iteration: 3/100, moves: 906, cost: 282313.0\n",
      "Init: initializing centroids\n",
      "Init: initializing clusters\n",
      "Starting iterations...\n",
      "Run 3, iteration: 1/100, moves: 11428, cost: 284445.0\n",
      "Run 3, iteration: 2/100, moves: 1200, cost: 284445.0\n",
      "Init: initializing centroids\n",
      "Init: initializing clusters\n",
      "Starting iterations...\n",
      "Run 4, iteration: 1/100, moves: 19578, cost: 301453.0\n",
      "Run 4, iteration: 2/100, moves: 7761, cost: 298465.0\n",
      "Run 4, iteration: 3/100, moves: 167, cost: 298465.0\n",
      "Init: initializing centroids\n",
      "Init: initializing clusters\n",
      "Starting iterations...\n",
      "Run 5, iteration: 1/100, moves: 14561, cost: 283893.0\n",
      "Run 5, iteration: 2/100, moves: 1080, cost: 283893.0\n",
      "Best run was number 2\n"
     ]
    }
   ],
   "source": [
    "import random\n",
    "random.seed(9001)\n",
    "# #5 clusters\n",
    "# km1 = KModes(n_clusters=5, init='random', n_init=5, verbose=1)\n",
    "# cluster1 = km1.fit_predict(train_clust[train_clust.columns[train_clust.columns!='id']])#exlude ID from variable to cluster based on\n",
    "# #6 clusters\n",
    "# km2 = KModes(n_clusters=6, init='random', n_init=5, verbose=1)\n",
    "# clusters2 = km2.fit_predict(train_clust[train_clust.columns[train_clust.columns!='id']])\n",
    "# #7 clusters\n",
    "# km3 = KModes(n_clusters=7, init='random', n_init=5, verbose=1)\n",
    "# cluster3 = km3.fit_predict(train_clust[train_clust.columns[train_clust.columns!='id']])\n",
    "# #8 clusters\n",
    "km4 = KModes(n_clusters=8, init='random', n_init=5, verbose=1)\n",
    "cluster4 = km4.fit_predict(train_clust[train_clust.columns[train_clust.columns!='id']])"
   ]
  },
  {
   "cell_type": "code",
   "execution_count": 58,
   "metadata": {},
   "outputs": [],
   "source": [
    "# # For 5 Clusters\n",
    "# centroids1=pd.DataFrame(km1.cluster_centroids_)\n",
    "# centroids1"
   ]
  },
  {
   "cell_type": "code",
   "execution_count": 59,
   "metadata": {},
   "outputs": [],
   "source": [
    "# # For 6 Clusters\n",
    "# centroids2=pd.DataFrame(km2.cluster_centroids_)\n",
    "# centroids2"
   ]
  },
  {
   "cell_type": "code",
   "execution_count": 60,
   "metadata": {},
   "outputs": [],
   "source": [
    "# # For 7 Clusters\n",
    "# centroids3=pd.DataFrame(km3.cluster_centroids_)\n",
    "# centroids3"
   ]
  },
  {
   "cell_type": "code",
   "execution_count": 63,
   "metadata": {},
   "outputs": [
    {
     "data": {
      "text/html": [
       "<div>\n",
       "<style scoped>\n",
       "    .dataframe tbody tr th:only-of-type {\n",
       "        vertical-align: middle;\n",
       "    }\n",
       "\n",
       "    .dataframe tbody tr th {\n",
       "        vertical-align: top;\n",
       "    }\n",
       "\n",
       "    .dataframe thead th {\n",
       "        text-align: right;\n",
       "    }\n",
       "</style>\n",
       "<table border=\"1\" class=\"dataframe\">\n",
       "  <thead>\n",
       "    <tr style=\"text-align: right;\">\n",
       "      <th></th>\n",
       "      <th>0</th>\n",
       "      <th>1</th>\n",
       "      <th>2</th>\n",
       "      <th>3</th>\n",
       "      <th>4</th>\n",
       "      <th>5</th>\n",
       "      <th>6</th>\n",
       "      <th>7</th>\n",
       "      <th>8</th>\n",
       "      <th>9</th>\n",
       "      <th>10</th>\n",
       "    </tr>\n",
       "  </thead>\n",
       "  <tbody>\n",
       "    <tr>\n",
       "      <th>0</th>\n",
       "      <td>Wami / Ruvu</td>\n",
       "      <td>Pwani</td>\n",
       "      <td>Bagamoyo</td>\n",
       "      <td>Chalinze</td>\n",
       "      <td>submersible</td>\n",
       "      <td>submersible</td>\n",
       "      <td>submersible</td>\n",
       "      <td>borehole</td>\n",
       "      <td>communal standpipe</td>\n",
       "      <td>functional</td>\n",
       "      <td>2011</td>\n",
       "    </tr>\n",
       "    <tr>\n",
       "      <th>1</th>\n",
       "      <td>Lake Victoria</td>\n",
       "      <td>Shinyanga</td>\n",
       "      <td>Bariadi</td>\n",
       "      <td>Chinamili</td>\n",
       "      <td>nira/tanira</td>\n",
       "      <td>nira/tanira</td>\n",
       "      <td>handpump</td>\n",
       "      <td>shallow well</td>\n",
       "      <td>hand pump</td>\n",
       "      <td>functional</td>\n",
       "      <td>2013</td>\n",
       "    </tr>\n",
       "    <tr>\n",
       "      <th>2</th>\n",
       "      <td>Lake Victoria</td>\n",
       "      <td>Shinyanga</td>\n",
       "      <td>Bariadi</td>\n",
       "      <td>Nkololo</td>\n",
       "      <td>nira/tanira</td>\n",
       "      <td>nira/tanira</td>\n",
       "      <td>handpump</td>\n",
       "      <td>shallow well</td>\n",
       "      <td>hand pump</td>\n",
       "      <td>functional</td>\n",
       "      <td>2013</td>\n",
       "    </tr>\n",
       "    <tr>\n",
       "      <th>3</th>\n",
       "      <td>Internal</td>\n",
       "      <td>Dodoma</td>\n",
       "      <td>Kondoa</td>\n",
       "      <td>Somangira</td>\n",
       "      <td>mono</td>\n",
       "      <td>mono</td>\n",
       "      <td>motorpump</td>\n",
       "      <td>borehole</td>\n",
       "      <td>communal standpipe multiple</td>\n",
       "      <td>non functional</td>\n",
       "      <td>2011</td>\n",
       "    </tr>\n",
       "    <tr>\n",
       "      <th>4</th>\n",
       "      <td>Lake Victoria</td>\n",
       "      <td>Shinyanga</td>\n",
       "      <td>Kahama</td>\n",
       "      <td>Mishamo</td>\n",
       "      <td>other</td>\n",
       "      <td>other</td>\n",
       "      <td>other</td>\n",
       "      <td>shallow well</td>\n",
       "      <td>other</td>\n",
       "      <td>non functional</td>\n",
       "      <td>2013</td>\n",
       "    </tr>\n",
       "    <tr>\n",
       "      <th>5</th>\n",
       "      <td>Pangani</td>\n",
       "      <td>Kilimanjaro</td>\n",
       "      <td>Njombe</td>\n",
       "      <td>Igosi</td>\n",
       "      <td>gravity</td>\n",
       "      <td>gravity</td>\n",
       "      <td>gravity</td>\n",
       "      <td>spring</td>\n",
       "      <td>communal standpipe</td>\n",
       "      <td>functional</td>\n",
       "      <td>2013</td>\n",
       "    </tr>\n",
       "    <tr>\n",
       "      <th>6</th>\n",
       "      <td>Rufiji</td>\n",
       "      <td>Morogoro</td>\n",
       "      <td>Kilombero</td>\n",
       "      <td>Ifakara</td>\n",
       "      <td>swn 80</td>\n",
       "      <td>swn 80</td>\n",
       "      <td>handpump</td>\n",
       "      <td>shallow well</td>\n",
       "      <td>hand pump</td>\n",
       "      <td>functional</td>\n",
       "      <td>2011</td>\n",
       "    </tr>\n",
       "    <tr>\n",
       "      <th>7</th>\n",
       "      <td>Lake Nyasa</td>\n",
       "      <td>Mbeya</td>\n",
       "      <td>Rungwe</td>\n",
       "      <td>Rujewa</td>\n",
       "      <td>gravity</td>\n",
       "      <td>gravity</td>\n",
       "      <td>gravity</td>\n",
       "      <td>spring</td>\n",
       "      <td>communal standpipe</td>\n",
       "      <td>non functional</td>\n",
       "      <td>2011</td>\n",
       "    </tr>\n",
       "  </tbody>\n",
       "</table>\n",
       "</div>"
      ],
      "text/plain": [
       "               0            1          2          3            4            5  \\\n",
       "0    Wami / Ruvu        Pwani   Bagamoyo   Chalinze  submersible  submersible   \n",
       "1  Lake Victoria    Shinyanga    Bariadi  Chinamili  nira/tanira  nira/tanira   \n",
       "2  Lake Victoria    Shinyanga    Bariadi    Nkololo  nira/tanira  nira/tanira   \n",
       "3       Internal       Dodoma     Kondoa  Somangira         mono         mono   \n",
       "4  Lake Victoria    Shinyanga     Kahama    Mishamo        other        other   \n",
       "5        Pangani  Kilimanjaro     Njombe      Igosi      gravity      gravity   \n",
       "6         Rufiji     Morogoro  Kilombero    Ifakara       swn 80       swn 80   \n",
       "7     Lake Nyasa        Mbeya     Rungwe     Rujewa      gravity      gravity   \n",
       "\n",
       "             6             7                            8               9  \\\n",
       "0  submersible      borehole           communal standpipe      functional   \n",
       "1     handpump  shallow well                    hand pump      functional   \n",
       "2     handpump  shallow well                    hand pump      functional   \n",
       "3    motorpump      borehole  communal standpipe multiple  non functional   \n",
       "4        other  shallow well                        other  non functional   \n",
       "5      gravity        spring           communal standpipe      functional   \n",
       "6     handpump  shallow well                    hand pump      functional   \n",
       "7      gravity        spring           communal standpipe  non functional   \n",
       "\n",
       "     10  \n",
       "0  2011  \n",
       "1  2013  \n",
       "2  2013  \n",
       "3  2011  \n",
       "4  2013  \n",
       "5  2013  \n",
       "6  2011  \n",
       "7  2011  "
      ]
     },
     "execution_count": 63,
     "metadata": {},
     "output_type": "execute_result"
    }
   ],
   "source": [
    "# For 8 Clusters\n",
    "\n",
    "centroids4=pd.DataFrame(km4.cluster_centroids_)\n",
    "centroids4"
   ]
  },
  {
   "cell_type": "markdown",
   "metadata": {},
   "source": [
    "The best run with 8 clusters was the one with the least cost and more unique differentiation between features of the cluster centeroids.\n",
    "\n",
    "* 5 clusters: cost=424611.0\n",
    "* 6 clusters: cost=413897.0\n",
    "* 7 clusters: cost=421526.0\n",
    "* 8 clusters: cost=389722.0"
   ]
  },
  {
   "cell_type": "markdown",
   "metadata": {},
   "source": [
    "<font color=#0078CC>The trainset above is used to determine which run and number of cluster is best. Then that cluster is fit to the whole dataset.<font/>"
   ]
  },
  {
   "cell_type": "code",
   "execution_count": 64,
   "metadata": {},
   "outputs": [
    {
     "name": "stderr",
     "output_type": "stream",
     "text": [
      "C:\\ProgramData\\Anaconda3\\lib\\site-packages\\pandas\\core\\frame.py:4117: SettingWithCopyWarning: \n",
      "A value is trying to be set on a copy of a slice from a DataFrame\n",
      "\n",
      "See the caveats in the documentation: http://pandas.pydata.org/pandas-docs/stable/user_guide/indexing.html#returning-a-view-versus-a-copy\n",
      "  errors=errors,\n"
     ]
    },
    {
     "data": {
      "text/plain": [
       "(74250, 12)"
      ]
     },
     "execution_count": 64,
     "metadata": {},
     "output_type": "execute_result"
    }
   ],
   "source": [
    "dataset_clust=dataset.dropna(axis='columns')  #using only trainset to find clusters\n",
    "del dataset_clust['data_set']\n",
    "\n",
    "\n",
    "dataset_clust.drop(colums_with_na_names, axis=1, inplace=True)   #exlude columns with na set\n",
    "dataset_clust.shape"
   ]
  },
  {
   "cell_type": "code",
   "execution_count": 65,
   "metadata": {},
   "outputs": [
    {
     "name": "stdout",
     "output_type": "stream",
     "text": [
      "Init: initializing centroids\n",
      "Init: initializing clusters\n",
      "Starting iterations...\n",
      "Run 1, iteration: 1/100, moves: 21444, cost: 354045.0\n",
      "Run 1, iteration: 2/100, moves: 8212, cost: 352765.0\n",
      "Run 1, iteration: 3/100, moves: 156, cost: 352765.0\n",
      "Init: initializing centroids\n",
      "Init: initializing clusters\n",
      "Starting iterations...\n",
      "Run 2, iteration: 1/100, moves: 9827, cost: 373687.0\n",
      "Run 2, iteration: 2/100, moves: 2185, cost: 373526.0\n",
      "Run 2, iteration: 3/100, moves: 603, cost: 373526.0\n",
      "Init: initializing centroids\n",
      "Init: initializing clusters\n",
      "Starting iterations...\n",
      "Run 3, iteration: 1/100, moves: 15861, cost: 356048.0\n",
      "Run 3, iteration: 2/100, moves: 6723, cost: 356048.0\n",
      "Init: initializing centroids\n",
      "Init: initializing clusters\n",
      "Starting iterations...\n",
      "Run 4, iteration: 1/100, moves: 15150, cost: 366132.0\n",
      "Run 4, iteration: 2/100, moves: 9639, cost: 365123.0\n",
      "Run 4, iteration: 3/100, moves: 4336, cost: 360459.0\n",
      "Run 4, iteration: 4/100, moves: 1259, cost: 360459.0\n",
      "Init: initializing centroids\n",
      "Init: initializing clusters\n",
      "Starting iterations...\n",
      "Run 5, iteration: 1/100, moves: 14592, cost: 354832.0\n",
      "Run 5, iteration: 2/100, moves: 2543, cost: 353148.0\n",
      "Run 5, iteration: 3/100, moves: 2649, cost: 351712.0\n",
      "Run 5, iteration: 4/100, moves: 386, cost: 351712.0\n",
      "Best run was number 5\n"
     ]
    }
   ],
   "source": [
    "random.seed(9001)\n",
    "cluster4 = km4.fit_predict(dataset_clust[ dataset_clust.columns[dataset_clust.columns!='id']])"
   ]
  },
  {
   "cell_type": "code",
   "execution_count": 66,
   "metadata": {},
   "outputs": [
    {
     "name": "stderr",
     "output_type": "stream",
     "text": [
      "C:\\ProgramData\\Anaconda3\\lib\\site-packages\\ipykernel_launcher.py:1: SettingWithCopyWarning: \n",
      "A value is trying to be set on a copy of a slice from a DataFrame.\n",
      "Try using .loc[row_indexer,col_indexer] = value instead\n",
      "\n",
      "See the caveats in the documentation: http://pandas.pydata.org/pandas-docs/stable/user_guide/indexing.html#returning-a-view-versus-a-copy\n",
      "  \"\"\"Entry point for launching an IPython kernel.\n"
     ]
    }
   ],
   "source": [
    "dataset_clust['cluster'] = pd.Series(cluster4, index=dataset_clust.index)"
   ]
  },
  {
   "cell_type": "markdown",
   "metadata": {},
   "source": [
    "Add the cluster created above to original dataframe."
   ]
  },
  {
   "cell_type": "code",
   "execution_count": 67,
   "metadata": {},
   "outputs": [
    {
     "data": {
      "text/html": [
       "<div>\n",
       "<style scoped>\n",
       "    .dataframe tbody tr th:only-of-type {\n",
       "        vertical-align: middle;\n",
       "    }\n",
       "\n",
       "    .dataframe tbody tr th {\n",
       "        vertical-align: top;\n",
       "    }\n",
       "\n",
       "    .dataframe thead th {\n",
       "        text-align: right;\n",
       "    }\n",
       "</style>\n",
       "<table border=\"1\" class=\"dataframe\">\n",
       "  <thead>\n",
       "    <tr style=\"text-align: right;\">\n",
       "      <th></th>\n",
       "      <th>id</th>\n",
       "      <th>amount_tsh</th>\n",
       "      <th>funder</th>\n",
       "      <th>gps_height</th>\n",
       "      <th>installer</th>\n",
       "      <th>longitude</th>\n",
       "      <th>latitude</th>\n",
       "      <th>basin</th>\n",
       "      <th>subvillage</th>\n",
       "      <th>region</th>\n",
       "      <th>...</th>\n",
       "      <th>permit_na</th>\n",
       "      <th>construction_year_na</th>\n",
       "      <th>management_group_na</th>\n",
       "      <th>payment_na</th>\n",
       "      <th>water_quality_na</th>\n",
       "      <th>quantity_na</th>\n",
       "      <th>source_na</th>\n",
       "      <th>source_class_na</th>\n",
       "      <th>year_recorded</th>\n",
       "      <th>cluster</th>\n",
       "    </tr>\n",
       "  </thead>\n",
       "  <tbody>\n",
       "    <tr>\n",
       "      <th>0</th>\n",
       "      <td>69572</td>\n",
       "      <td>6000.0</td>\n",
       "      <td>Roman</td>\n",
       "      <td>1390.0</td>\n",
       "      <td>Roman</td>\n",
       "      <td>34.938093</td>\n",
       "      <td>-9.856322</td>\n",
       "      <td>Lake Nyasa</td>\n",
       "      <td>Mnyusi B</td>\n",
       "      <td>Iringa</td>\n",
       "      <td>...</td>\n",
       "      <td>0</td>\n",
       "      <td>0</td>\n",
       "      <td>0</td>\n",
       "      <td>0</td>\n",
       "      <td>0</td>\n",
       "      <td>0</td>\n",
       "      <td>0</td>\n",
       "      <td>0</td>\n",
       "      <td>2011</td>\n",
       "      <td>2</td>\n",
       "    </tr>\n",
       "    <tr>\n",
       "      <th>1</th>\n",
       "      <td>8776</td>\n",
       "      <td>NaN</td>\n",
       "      <td>Grumeti</td>\n",
       "      <td>1399.0</td>\n",
       "      <td>GRUMETI</td>\n",
       "      <td>34.698766</td>\n",
       "      <td>-2.147466</td>\n",
       "      <td>Lake Victoria</td>\n",
       "      <td>Nyamara</td>\n",
       "      <td>Mara</td>\n",
       "      <td>...</td>\n",
       "      <td>0</td>\n",
       "      <td>0</td>\n",
       "      <td>0</td>\n",
       "      <td>0</td>\n",
       "      <td>0</td>\n",
       "      <td>0</td>\n",
       "      <td>0</td>\n",
       "      <td>0</td>\n",
       "      <td>2013</td>\n",
       "      <td>1</td>\n",
       "    </tr>\n",
       "    <tr>\n",
       "      <th>2</th>\n",
       "      <td>34310</td>\n",
       "      <td>25.0</td>\n",
       "      <td>Lottery Club</td>\n",
       "      <td>686.0</td>\n",
       "      <td>World vision</td>\n",
       "      <td>37.460664</td>\n",
       "      <td>-3.821329</td>\n",
       "      <td>Pangani</td>\n",
       "      <td>Majengo</td>\n",
       "      <td>Manyara</td>\n",
       "      <td>...</td>\n",
       "      <td>0</td>\n",
       "      <td>0</td>\n",
       "      <td>0</td>\n",
       "      <td>0</td>\n",
       "      <td>0</td>\n",
       "      <td>0</td>\n",
       "      <td>0</td>\n",
       "      <td>0</td>\n",
       "      <td>2013</td>\n",
       "      <td>1</td>\n",
       "    </tr>\n",
       "    <tr>\n",
       "      <th>3</th>\n",
       "      <td>67743</td>\n",
       "      <td>NaN</td>\n",
       "      <td>Unicef</td>\n",
       "      <td>263.0</td>\n",
       "      <td>UNICEF</td>\n",
       "      <td>38.486161</td>\n",
       "      <td>-11.155298</td>\n",
       "      <td>Ruvuma / Southern Coast</td>\n",
       "      <td>Mahakamani</td>\n",
       "      <td>Mtwara</td>\n",
       "      <td>...</td>\n",
       "      <td>0</td>\n",
       "      <td>0</td>\n",
       "      <td>0</td>\n",
       "      <td>0</td>\n",
       "      <td>0</td>\n",
       "      <td>0</td>\n",
       "      <td>0</td>\n",
       "      <td>0</td>\n",
       "      <td>2013</td>\n",
       "      <td>5</td>\n",
       "    </tr>\n",
       "    <tr>\n",
       "      <th>4</th>\n",
       "      <td>19728</td>\n",
       "      <td>NaN</td>\n",
       "      <td>Action In A</td>\n",
       "      <td>NaN</td>\n",
       "      <td>Artisan</td>\n",
       "      <td>31.130847</td>\n",
       "      <td>-1.825359</td>\n",
       "      <td>Lake Victoria</td>\n",
       "      <td>Kyanyamisa</td>\n",
       "      <td>Kagera</td>\n",
       "      <td>...</td>\n",
       "      <td>0</td>\n",
       "      <td>1</td>\n",
       "      <td>0</td>\n",
       "      <td>0</td>\n",
       "      <td>0</td>\n",
       "      <td>0</td>\n",
       "      <td>0</td>\n",
       "      <td>0</td>\n",
       "      <td>2011</td>\n",
       "      <td>2</td>\n",
       "    </tr>\n",
       "  </tbody>\n",
       "</table>\n",
       "<p>5 rows × 50 columns</p>\n",
       "</div>"
      ],
      "text/plain": [
       "      id  amount_tsh        funder  gps_height     installer  longitude  \\\n",
       "0  69572      6000.0         Roman      1390.0         Roman  34.938093   \n",
       "1   8776         NaN       Grumeti      1399.0       GRUMETI  34.698766   \n",
       "2  34310        25.0  Lottery Club       686.0  World vision  37.460664   \n",
       "3  67743         NaN        Unicef       263.0        UNICEF  38.486161   \n",
       "4  19728         NaN   Action In A         NaN       Artisan  31.130847   \n",
       "\n",
       "    latitude                    basin  subvillage   region  ... permit_na  \\\n",
       "0  -9.856322               Lake Nyasa    Mnyusi B   Iringa  ...         0   \n",
       "1  -2.147466            Lake Victoria     Nyamara     Mara  ...         0   \n",
       "2  -3.821329                  Pangani     Majengo  Manyara  ...         0   \n",
       "3 -11.155298  Ruvuma / Southern Coast  Mahakamani   Mtwara  ...         0   \n",
       "4  -1.825359            Lake Victoria  Kyanyamisa   Kagera  ...         0   \n",
       "\n",
       "  construction_year_na  management_group_na payment_na water_quality_na  \\\n",
       "0                    0                    0          0                0   \n",
       "1                    0                    0          0                0   \n",
       "2                    0                    0          0                0   \n",
       "3                    0                    0          0                0   \n",
       "4                    1                    0          0                0   \n",
       "\n",
       "  quantity_na  source_na source_class_na year_recorded cluster  \n",
       "0           0          0               0          2011       2  \n",
       "1           0          0               0          2013       1  \n",
       "2           0          0               0          2013       1  \n",
       "3           0          0               0          2013       5  \n",
       "4           0          0               0          2011       2  \n",
       "\n",
       "[5 rows x 50 columns]"
      ]
     },
     "execution_count": 67,
     "metadata": {},
     "output_type": "execute_result"
    }
   ],
   "source": [
    "dataset = pd.merge(dataset,\n",
    "                 dataset_clust[['id','cluster']],\n",
    "                 on='id')\n",
    "dataset.head()"
   ]
  },
  {
   "cell_type": "markdown",
   "metadata": {},
   "source": [
    "##### <font color=#0078CC>Missing Value Imputation<font/>"
   ]
  },
  {
   "cell_type": "markdown",
   "metadata": {},
   "source": [
    "Below the na each feature are filled with the mode of the cluster that it belongs to. "
   ]
  },
  {
   "cell_type": "code",
   "execution_count": 68,
   "metadata": {
    "scrolled": true
   },
   "outputs": [],
   "source": [
    "f = lambda x: x.mode().iloc[0]\n",
    "dataset= dataset.fillna(dataset.groupby('cluster').transform(f))"
   ]
  },
  {
   "cell_type": "code",
   "execution_count": 69,
   "metadata": {},
   "outputs": [
    {
     "data": {
      "text/html": [
       "<div>\n",
       "<style scoped>\n",
       "    .dataframe tbody tr th:only-of-type {\n",
       "        vertical-align: middle;\n",
       "    }\n",
       "\n",
       "    .dataframe tbody tr th {\n",
       "        vertical-align: top;\n",
       "    }\n",
       "\n",
       "    .dataframe thead th {\n",
       "        text-align: right;\n",
       "    }\n",
       "</style>\n",
       "<table border=\"1\" class=\"dataframe\">\n",
       "  <thead>\n",
       "    <tr style=\"text-align: right;\">\n",
       "      <th></th>\n",
       "      <th>0</th>\n",
       "    </tr>\n",
       "  </thead>\n",
       "  <tbody>\n",
       "  </tbody>\n",
       "</table>\n",
       "</div>"
      ],
      "text/plain": [
       "Empty DataFrame\n",
       "Columns: [0]\n",
       "Index: []"
      ]
     },
     "execution_count": 69,
     "metadata": {},
     "output_type": "execute_result"
    }
   ],
   "source": [
    "#check any na\n",
    "pd.DataFrame(dataset.isna().sum()[dataset.isna().sum().ne(0)])"
   ]
  },
  {
   "cell_type": "markdown",
   "metadata": {},
   "source": [
    "## 4. Data Exploration <a class=\"anchor\" id=\"forth-bullet\"></a>"
   ]
  },
  {
   "cell_type": "code",
   "execution_count": 68,
   "metadata": {},
   "outputs": [],
   "source": [
    "#Which are functional and which are not per funder and installer top 20"
   ]
  },
  {
   "cell_type": "markdown",
   "metadata": {},
   "source": [
    "Plotting water pumps per class "
   ]
  },
  {
   "cell_type": "code",
   "execution_count": 71,
   "metadata": {},
   "outputs": [
    {
     "data": {
      "image/png": "[encoded data removed]",
      "text/plain": [
       "<Figure size 432x288 with 1 Axes>"
      ]
     },
     "metadata": {
      "needs_background": "light"
     },
     "output_type": "display_data"
    }
   ],
   "source": [
    "plt.scatter(x=dataset['longitude'], y=dataset['latitude'])\n",
    "plt.show()\n",
    "\n",
    "#change color by target variable"
   ]
  },
  {
   "cell_type": "code",
   "execution_count": null,
   "metadata": {},
   "outputs": [],
   "source": []
  },
  {
   "cell_type": "markdown",
   "metadata": {},
   "source": [
    "### 4.1. More Data Cleaning and Transformations <a class=\"anchor\" id=\"forth1-bullet\"></a>"
   ]
  },
  {
   "cell_type": "markdown",
   "metadata": {},
   "source": [
    "We need to make a few amendemnts and test how our model per.."
   ]
  },
  {
   "cell_type": "code",
   "execution_count": 74,
   "metadata": {},
   "outputs": [
    {
     "data": {
      "text/plain": [
       "(array([13515., 19327.,  2927.,  5011., 10307.,  9809., 11065.,  1933.,\n",
       "          319.,    37.]),\n",
       " array([ -90. ,  196.7,  483.4,  770.1, 1056.8, 1343.5, 1630.2, 1916.9,\n",
       "        2203.6, 2490.3, 2777. ]),\n",
       " <a list of 10 Patch objects>)"
      ]
     },
     "execution_count": 74,
     "metadata": {},
     "output_type": "execute_result"
    },
    {
     "data": {
      "image/png": "[encoded data removed]",
      "text/plain": [
       "<Figure size 432x288 with 1 Axes>"
      ]
     },
     "metadata": {
      "needs_background": "light"
     },
     "output_type": "display_data"
    }
   ],
   "source": [
    "#Normalize geo_height"
   ]
  },
  {
   "cell_type": "markdown",
   "metadata": {},
   "source": []
  },
  {
   "cell_type": "code",
   "execution_count": 80,
   "metadata": {},
   "outputs": [
    {
     "name": "stdout",
     "output_type": "stream",
     "text": [
      "0      3643\n",
      "1      1484\n",
      "2     10407\n",
      "3      4046\n",
      "4     48738\n",
      "5      2767\n",
      "6      1717\n",
      "7      1140\n",
      "8       235\n",
      "9        30\n",
      "10       43\n",
      "Name: bin_amount_tsh, dtype: int64\n"
     ]
    },
    {
     "data": {
      "image/png": "[encoded data removed]",
      "text/plain": [
       "<Figure size 432x288 with 1 Axes>"
      ]
     },
     "metadata": {
      "needs_background": "light"
     },
     "output_type": "display_data"
    }
   ],
   "source": [
    "bat_bins = [0,20, 45, 50, 300, 500, 1500, 3000, 8000, 20000, 30000, np.inf]\n",
    "bat_labels = list(range(len(bat_bins) - 1))\n",
    "\n",
    "dataset['bin_amount_tsh'] = pd.cut(dataset['amount_tsh'],\n",
    "                                  bins = bat_bins, \n",
    "                                  labels = bat_labels)\n",
    "#Rename the Bins\n",
    "\n",
    "plt.hist(dataset[\"bin_amount_tsh\"], bins = bat_labels, rwidth = 0.75)\n",
    "print(dataset[\"bin_amount_tsh\"].value_counts().sort_index())"
   ]
  },
  {
   "cell_type": "code",
   "execution_count": 81,
   "metadata": {},
   "outputs": [
    {
     "name": "stdout",
     "output_type": "stream",
     "text": [
      "0    35616\n",
      "1    11103\n",
      "2    12316\n",
      "3     9413\n",
      "4     4003\n",
      "5     1799\n",
      "Name: bin_population, dtype: int64\n"
     ]
    },
    {
     "data": {
      "image/png": "[encoded data removed]",
      "text/plain": [
       "<Figure size 432x288 with 1 Axes>"
      ]
     },
     "metadata": {
      "needs_background": "light"
     },
     "output_type": "display_data"
    }
   ],
   "source": [
    "bp_bins = [0, 1, 100, 250, 500, 1000, np.inf]\n",
    "bp_labels = list(range(len(bp_bins) - 1))\n",
    "\n",
    "#Rename the Bins\n",
    "\n",
    "dataset['bin_population'] = pd.cut(dataset['population'],\n",
    "                                  bins = bp_bins, \n",
    "                                  labels = bp_labels)\n",
    "\n",
    "plt.hist(dataset[\"bin_population\"], bins = bp_labels, rwidth = 0.75)\n",
    "print(dataset[\"bin_population\"].value_counts().sort_index())"
   ]
  },
  {
   "cell_type": "code",
   "execution_count": 82,
   "metadata": {},
   "outputs": [],
   "source": [
    "dataset['construction_year']=dataset['construction_year'].astype('int')\n",
    "dataset['amount_tsh']=dataset['amount_tsh'].astype('int')\n",
    "dataset['longitude']=dataset['longitude'].astype('int')\n",
    "dataset['latitude']=dataset['latitude'].astype('int')\n",
    "dataset['year_recorded']=dataset['year_recorded'].astype('int')\n",
    "\n",
    "#Changing datatypes from Objects to Categories.\n",
    "for col in dataset:\n",
    "    if dataset.dtypes[col].name == 'object':\n",
    "        dataset[col] = dataset[col].astype('category')"
   ]
  },
  {
   "cell_type": "code",
   "execution_count": 83,
   "metadata": {},
   "outputs": [],
   "source": [
    "rm_cols=['funder','installer', 'lga','ward','subvillage','cluster','id'] #we will also no longer use 'cluster'\n",
    "dataset.drop(rm_cols, axis=1, inplace=True)"
   ]
  },
  {
   "cell_type": "markdown",
   "metadata": {},
   "source": [
    "### Dummify and Split Train Test "
   ]
  },
  {
   "cell_type": "code",
   "execution_count": 84,
   "metadata": {},
   "outputs": [
    {
     "data": {
      "text/plain": [
       "((74250, 154), (74250, 20))"
      ]
     },
     "execution_count": 84,
     "metadata": {},
     "output_type": "execute_result"
    }
   ],
   "source": [
    "#We will convert all categoricals to dummy\n",
    "#We will explude the column that define NA and the target column.\n",
    "\n",
    "rm_tar_na=colums_with_na_names+['status_group','data_set']\n",
    "\n",
    "dummified_dataset = pd.get_dummies(dataset.drop(rm_tar_na, axis=1)).reset_index(drop=True)\n",
    "tar_na_cols=pd.DataFrame(dataset[rm_tar_na].reset_index(drop=True))\n",
    "\n",
    "dummified_dataset.shape, tar_na_cols.shape"
   ]
  },
  {
   "cell_type": "code",
   "execution_count": 85,
   "metadata": {},
   "outputs": [
    {
     "data": {
      "text/plain": [
       "(74250, 174)"
      ]
     },
     "execution_count": 85,
     "metadata": {},
     "output_type": "execute_result"
    }
   ],
   "source": [
    "dummified_dataset=pd.concat([dummified_dataset,tar_na_cols],axis=1)\n",
    "dummified_dataset.shape"
   ]
  },
  {
   "cell_type": "markdown",
   "metadata": {},
   "source": [
    "<div class=\"alert alert-block alert-success\">\n",
    "The train and test will be separated before the next steps as the data cleaning is compeleted. It will be split using the annotation added under column **data_set** and that column will be removed as it no longer will be used. "
   ]
  },
  {
   "cell_type": "code",
   "execution_count": 86,
   "metadata": {},
   "outputs": [
    {
     "data": {
      "text/plain": [
       "((59400, 173), (14850, 173))"
      ]
     },
     "execution_count": 86,
     "metadata": {},
     "output_type": "execute_result"
    }
   ],
   "source": [
    "trainset=dummified_dataset[dummified_dataset['data_set']=='train']\n",
    "testset=dummified_dataset[dummified_dataset['data_set']=='test']\n",
    "del testset['data_set']\n",
    "del trainset['data_set']\n",
    "trainset.shape,testset.shape"
   ]
  },
  {
   "cell_type": "markdown",
   "metadata": {},
   "source": [
    "## 5. Dataset Balance <a class=\"anchor\" id=\"fifth-bullet\"></a>"
   ]
  },
  {
   "cell_type": "markdown",
   "metadata": {},
   "source": [
    "As established [here](#imbalance-bullet), there is a class imbalance \n",
    "occurring in datasets with a disproportionate ratio of observations in each class. This will make our model biased as it learns more on the more frequently occuring classes. \n",
    "To handle this disproportionality we will test the two options of up-sampling our minority class and down-sampling our majority class. To choose which one is better the inital approach was to fit the prediction to a Logistic Regression and compare the performance of each method, however the number of observations in the minority class are too "
   ]
  },
  {
   "cell_type": "code",
   "execution_count": 66,
   "metadata": {},
   "outputs": [
    {
     "data": {
      "text/html": [
       "<div>\n",
       "<style scoped>\n",
       "    .dataframe tbody tr th:only-of-type {\n",
       "        vertical-align: middle;\n",
       "    }\n",
       "\n",
       "    .dataframe tbody tr th {\n",
       "        vertical-align: top;\n",
       "    }\n",
       "\n",
       "    .dataframe thead th {\n",
       "        text-align: right;\n",
       "    }\n",
       "</style>\n",
       "<table border=\"1\" class=\"dataframe\">\n",
       "  <thead>\n",
       "    <tr style=\"text-align: right;\">\n",
       "      <th></th>\n",
       "      <th>status_group</th>\n",
       "      <th>%</th>\n",
       "    </tr>\n",
       "  </thead>\n",
       "  <tbody>\n",
       "    <tr>\n",
       "      <th>functional</th>\n",
       "      <td>32259</td>\n",
       "      <td>54.308081</td>\n",
       "    </tr>\n",
       "    <tr>\n",
       "      <th>non functional</th>\n",
       "      <td>22824</td>\n",
       "      <td>38.424242</td>\n",
       "    </tr>\n",
       "    <tr>\n",
       "      <th>functional needs repair</th>\n",
       "      <td>4317</td>\n",
       "      <td>7.267677</td>\n",
       "    </tr>\n",
       "  </tbody>\n",
       "</table>\n",
       "</div>"
      ],
      "text/plain": [
       "                         status_group          %\n",
       "functional                      32259  54.308081\n",
       "non functional                  22824  38.424242\n",
       "functional needs repair          4317   7.267677"
      ]
     },
     "execution_count": 66,
     "metadata": {},
     "output_type": "execute_result"
    }
   ],
   "source": [
    "status_group"
   ]
  },
  {
   "cell_type": "markdown",
   "metadata": {},
   "source": [
    "### 5.1. Up-Sample Minority Class"
   ]
  },
  {
   "cell_type": "markdown",
   "metadata": {},
   "source": [
    "We only have 7% of the total observation that is for the third category which is \"functional needs repair\". We will balance this to the 'functional' class and see how the accuracy performs. "
   ]
  },
  {
   "cell_type": "code",
   "execution_count": 87,
   "metadata": {},
   "outputs": [
    {
     "data": {
      "text/html": [
       "<div>\n",
       "<style scoped>\n",
       "    .dataframe tbody tr th:only-of-type {\n",
       "        vertical-align: middle;\n",
       "    }\n",
       "\n",
       "    .dataframe tbody tr th {\n",
       "        vertical-align: top;\n",
       "    }\n",
       "\n",
       "    .dataframe thead th {\n",
       "        text-align: right;\n",
       "    }\n",
       "</style>\n",
       "<table border=\"1\" class=\"dataframe\">\n",
       "  <thead>\n",
       "    <tr style=\"text-align: right;\">\n",
       "      <th></th>\n",
       "      <th>status_group</th>\n",
       "      <th>%</th>\n",
       "    </tr>\n",
       "  </thead>\n",
       "  <tbody>\n",
       "    <tr>\n",
       "      <th>functional needs repair</th>\n",
       "      <td>32259</td>\n",
       "      <td>36.934121</td>\n",
       "    </tr>\n",
       "    <tr>\n",
       "      <th>functional</th>\n",
       "      <td>32259</td>\n",
       "      <td>36.934121</td>\n",
       "    </tr>\n",
       "    <tr>\n",
       "      <th>non functional</th>\n",
       "      <td>22824</td>\n",
       "      <td>26.131758</td>\n",
       "    </tr>\n",
       "    <tr>\n",
       "      <th>*unknown*</th>\n",
       "      <td>0</td>\n",
       "      <td>0.000000</td>\n",
       "    </tr>\n",
       "  </tbody>\n",
       "</table>\n",
       "</div>"
      ],
      "text/plain": [
       "                         status_group          %\n",
       "functional needs repair         32259  36.934121\n",
       "functional                      32259  36.934121\n",
       "non functional                  22824  26.131758\n",
       "*unknown*                           0   0.000000"
      ]
     },
     "execution_count": 87,
     "metadata": {},
     "output_type": "execute_result"
    }
   ],
   "source": [
    "df_majority1 = trainset[trainset['status_group']=='functional']\n",
    "df_majority2 = trainset[trainset['status_group']=='non functional']\n",
    "df_minority = trainset[trainset['status_group']=='functional needs repair']\n",
    "\n",
    "# Upsample minority class\n",
    "df_minority_upsampled = resample(df_minority, \n",
    "                                 replace=True,     \n",
    "                                 n_samples=32259, #upsamples to the largest class\n",
    "                                 random_state=123)\n",
    "\n",
    "upsampled_dataset=pd.concat([df_majority1,df_majority2,df_minority_upsampled])\n",
    "\n",
    "status_group_upsampled=pd.DataFrame(upsampled_dataset[\"status_group\"].value_counts())\n",
    "status_group_upsampled['%']=(upsampled_dataset[\"status_group\"].value_counts())/len(upsampled_dataset)*100\n",
    "status_group_upsampled"
   ]
  },
  {
   "cell_type": "code",
   "execution_count": 88,
   "metadata": {},
   "outputs": [
    {
     "data": {
      "text/plain": [
       "(87342, 173)"
      ]
     },
     "execution_count": 88,
     "metadata": {},
     "output_type": "execute_result"
    }
   ],
   "source": [
    "trainset_b=upsampled_dataset  ##We update the here with upsampled\n",
    "trainset_b.shape  #balanced"
   ]
  },
  {
   "cell_type": "markdown",
   "metadata": {},
   "source": [
    "Logistic regression can not be done on categorical variables, we need to simply convert all variables to dummy variable."
   ]
  },
  {
   "cell_type": "markdown",
   "metadata": {},
   "source": [
    "### Random Forest Before and After Up-Sampeling"
   ]
  },
  {
   "cell_type": "markdown",
   "metadata": {},
   "source": [
    "We will first split the both balanced (trainset_b) and unbalanced (trainset_b) trainsets into train and test (or validation) and see how random forest perfoms in each case interms of accuracy, and the unique classes it predicts."
   ]
  },
  {
   "cell_type": "markdown",
   "metadata": {},
   "source": [
    "#### Before Up-Sampeling"
   ]
  },
  {
   "cell_type": "code",
   "execution_count": 89,
   "metadata": {},
   "outputs": [
    {
     "name": "stdout",
     "output_type": "stream",
     "text": [
      "0.7994949494949495\n",
      "['functional' 'functional needs repair' 'non functional']\n"
     ]
    },
    {
     "data": {
      "text/plain": [
       "(None, None)"
      ]
     },
     "execution_count": 89,
     "metadata": {},
     "output_type": "execute_result"
    }
   ],
   "source": [
    "from sklearn.model_selection import train_test_split\n",
    "\n",
    "def split_df(df, seed=None, percentage=0.8):\n",
    "    \n",
    "    X = df.loc[:, df.columns != 'status_group']\n",
    "    y = df['status_group']\n",
    "\n",
    "    return train_test_split(X, y, test_size=1-percentage, random_state=seed)\n",
    "\n",
    "X_train, X_test, y_train, y_test = split_df(trainset, seed=42, percentage=0.8) #the trainset here is not balanced\n",
    "\n",
    "from sklearn.ensemble import RandomForestClassifier\n",
    "\n",
    "#Create a Gaussian Classifier\n",
    "ranfor_ini=RandomForestClassifier(n_estimators=100)\n",
    "\n",
    "#Train the model using the training sets y_pred=clf.predict(X_test)\n",
    "ranfor_ini.fit(X_train,y_train)\n",
    "\n",
    "y_pred=ranfor_ini.predict(X_test)\n",
    "\n",
    "print( accuracy_score(y_pred, y_test)), print(np.unique(y_pred))  #check which classes our model is predicting"
   ]
  },
  {
   "cell_type": "markdown",
   "metadata": {},
   "source": [
    "#### After Up-Sampeling"
   ]
  },
  {
   "cell_type": "code",
   "execution_count": 160,
   "metadata": {},
   "outputs": [
    {
     "name": "stdout",
     "output_type": "stream",
     "text": [
      "0.8527105157707939\n",
      "['functional' 'functional needs repair' 'non functional']\n"
     ]
    },
    {
     "data": {
      "text/plain": [
       "(None, None)"
      ]
     },
     "execution_count": 160,
     "metadata": {},
     "output_type": "execute_result"
    }
   ],
   "source": [
    "from sklearn.model_selection import train_test_split\n",
    "\n",
    "def split_df(df, seed=None, percentage=0.8):\n",
    "    \n",
    "    X = df.loc[:, df.columns != 'status_group']\n",
    "    y = df['status_group']\n",
    "\n",
    "    return train_test_split(X, y, test_size=1-percentage, random_state=seed)\n",
    "\n",
    "X_train, X_test, y_train, y_test = split_df(trainset_b, seed=42, percentage=0.8) #the trainset here is not balanced\n",
    "\n",
    "from sklearn.ensemble import RandomForestClassifier\n",
    "\n",
    "#Create a Gaussian Classifier\n",
    "ranfor_baseline=RandomForestClassifier(n_estimators=200, n_jobs=-1, random_state=42)\n",
    "\n",
    "#Train the model using the training sets y_pred=clf.predict(X_test)\n",
    "ranfor_baseline.fit(X_train,y_train)\n",
    "\n",
    "y_pred=ranfor_baseline.predict(X_test)\n",
    "\n",
    "print( accuracy_score(y_pred, y_test)), print(np.unique(y_pred))  #check which classes our model is predicting"
   ]
  },
  {
   "cell_type": "code",
   "execution_count": 169,
   "metadata": {},
   "outputs": [
    {
     "data": {
      "text/plain": [
       "<matplotlib.axes._subplots.AxesSubplot at 0x1396f871388>"
      ]
     },
     "execution_count": 169,
     "metadata": {},
     "output_type": "execute_result"
    },
    {
     "data": {
      "image/png": "[encoded data removed]",
      "text/plain": [
       "<Figure size 432x288 with 1 Axes>"
      ]
     },
     "metadata": {
      "needs_background": "light"
     },
     "output_type": "display_data"
    }
   ],
   "source": [
    "feat_importances = pd.Series(ranfor_baseline.feature_importances_, index=trainset_b.drop(['status_group'],axis=1).columns)\n",
    "feat_importances.nlargest(20).plot(kind='barh')"
   ]
  },
  {
   "cell_type": "markdown",
   "metadata": {},
   "source": [
    "Eventhough the minority class was only 7% of the total observation, the model without balancing was able to predict with for that class. This might be an indication that there are features distinctly indefying which water pumps need repair. However, upsampling does improve the overall accuracy of the prediction significantly. "
   ]
  },
  {
   "cell_type": "markdown",
   "metadata": {},
   "source": [
    "<div class=\"alert alert-block alert-success\">\n",
    "We will use this model as the baseline and compare how it improves with accuracy and important features once feature engineering and cross validation is applied. "
   ]
  },
  {
   "cell_type": "markdown",
   "metadata": {},
   "source": [
    "## 6. Feature Selection <a class=\"anchor\" id=\"sixth-bullet\"></a>"
   ]
  },
  {
   "cell_type": "markdown",
   "metadata": {},
   "source": [
    "### 6.1. Train and Validation Split <a class=\"anchor\" id=\"sixth1-bullet\"></a>"
   ]
  },
  {
   "cell_type": "code",
   "execution_count": 91,
   "metadata": {},
   "outputs": [],
   "source": [
    "from sklearn.model_selection import train_test_split\n",
    "\n",
    "def split_df(df, seed=None, percentage=0.8):\n",
    "    \n",
    "    X = df.loc[:, df.columns != 'status_group']\n",
    "    y = df['status_group']\n",
    "\n",
    "    return train_test_split(X, y, test_size=1-percentage, random_state=seed)\n",
    "\n",
    "X_train, X_test, y_train, y_test = split_df(trainset_b, seed=42, percentage=0.5)"
   ]
  },
  {
   "cell_type": "code",
   "execution_count": null,
   "metadata": {},
   "outputs": [],
   "source": [
    "#K-Fold Cross Validation\n",
    "X = np.array([[1, 2], [3, 4], [5, 6], [7, 8]]) # create an 2d array i.e independent variables matrix\n",
    "Y = np.array([1, 2, 3, 4]) # Create another array i.e dependent vector\n",
    "\n",
    "kf = KFold(n_splits=10) # 10 folds \n",
    "kf.get_n_splits(X) # returns the number of splitting iterations in the cross-validator\n",
    "\n",
    "print(kf) \n",
    "KFold(n_splits=10, random_state=None, shuffle=False)"
   ]
  },
  {
   "cell_type": "markdown",
   "metadata": {},
   "source": [
    "### 6.2. Chi-squared Selection"
   ]
  },
  {
   "cell_type": "code",
   "execution_count": 100,
   "metadata": {},
   "outputs": [
    {
     "ename": "ValueError",
     "evalue": "Input X must be non-negative.",
     "output_type": "error",
     "traceback": [
      "\u001b[1;31m---------------------------------------------------------------------------\u001b[0m",
      "\u001b[1;31mValueError\u001b[0m                                Traceback (most recent call last)",
      "\u001b[1;32m<ipython-input-100-256c97b24418>\u001b[0m in \u001b[0;36m<module>\u001b[1;34m\u001b[0m\n\u001b[0;32m      4\u001b[0m \u001b[1;33m\u001b[0m\u001b[0m\n\u001b[0;32m      5\u001b[0m \u001b[1;33m\u001b[0m\u001b[0m\n\u001b[1;32m----> 6\u001b[1;33m \u001b[0mchi2_selector\u001b[0m \u001b[1;33m=\u001b[0m \u001b[0mSelectKBest\u001b[0m\u001b[1;33m(\u001b[0m\u001b[0mscore_func\u001b[0m\u001b[1;33m=\u001b[0m\u001b[0mchi2\u001b[0m\u001b[1;33m)\u001b[0m\u001b[1;33m.\u001b[0m\u001b[0mfit\u001b[0m\u001b[1;33m(\u001b[0m\u001b[0mX\u001b[0m\u001b[1;33m,\u001b[0m\u001b[0my\u001b[0m\u001b[1;33m)\u001b[0m\u001b[1;33m\u001b[0m\u001b[1;33m\u001b[0m\u001b[0m\n\u001b[0m\u001b[0;32m      7\u001b[0m \u001b[1;33m\u001b[0m\u001b[0m\n\u001b[0;32m      8\u001b[0m \u001b[1;31m# Get the indices sorted by most important to least important\u001b[0m\u001b[1;33m\u001b[0m\u001b[1;33m\u001b[0m\u001b[1;33m\u001b[0m\u001b[0m\n",
      "\u001b[1;32mC:\\ProgramData\\Anaconda3\\lib\\site-packages\\sklearn\\feature_selection\\univariate_selection.py\u001b[0m in \u001b[0;36mfit\u001b[1;34m(self, X, y)\u001b[0m\n\u001b[0;32m    347\u001b[0m \u001b[1;33m\u001b[0m\u001b[0m\n\u001b[0;32m    348\u001b[0m         \u001b[0mself\u001b[0m\u001b[1;33m.\u001b[0m\u001b[0m_check_params\u001b[0m\u001b[1;33m(\u001b[0m\u001b[0mX\u001b[0m\u001b[1;33m,\u001b[0m \u001b[0my\u001b[0m\u001b[1;33m)\u001b[0m\u001b[1;33m\u001b[0m\u001b[1;33m\u001b[0m\u001b[0m\n\u001b[1;32m--> 349\u001b[1;33m         \u001b[0mscore_func_ret\u001b[0m \u001b[1;33m=\u001b[0m \u001b[0mself\u001b[0m\u001b[1;33m.\u001b[0m\u001b[0mscore_func\u001b[0m\u001b[1;33m(\u001b[0m\u001b[0mX\u001b[0m\u001b[1;33m,\u001b[0m \u001b[0my\u001b[0m\u001b[1;33m)\u001b[0m\u001b[1;33m\u001b[0m\u001b[1;33m\u001b[0m\u001b[0m\n\u001b[0m\u001b[0;32m    350\u001b[0m         \u001b[1;32mif\u001b[0m \u001b[0misinstance\u001b[0m\u001b[1;33m(\u001b[0m\u001b[0mscore_func_ret\u001b[0m\u001b[1;33m,\u001b[0m \u001b[1;33m(\u001b[0m\u001b[0mlist\u001b[0m\u001b[1;33m,\u001b[0m \u001b[0mtuple\u001b[0m\u001b[1;33m)\u001b[0m\u001b[1;33m)\u001b[0m\u001b[1;33m:\u001b[0m\u001b[1;33m\u001b[0m\u001b[1;33m\u001b[0m\u001b[0m\n\u001b[0;32m    351\u001b[0m             \u001b[0mself\u001b[0m\u001b[1;33m.\u001b[0m\u001b[0mscores_\u001b[0m\u001b[1;33m,\u001b[0m \u001b[0mself\u001b[0m\u001b[1;33m.\u001b[0m\u001b[0mpvalues_\u001b[0m \u001b[1;33m=\u001b[0m \u001b[0mscore_func_ret\u001b[0m\u001b[1;33m\u001b[0m\u001b[1;33m\u001b[0m\u001b[0m\n",
      "\u001b[1;32mC:\\ProgramData\\Anaconda3\\lib\\site-packages\\sklearn\\feature_selection\\univariate_selection.py\u001b[0m in \u001b[0;36mchi2\u001b[1;34m(X, y)\u001b[0m\n\u001b[0;32m    214\u001b[0m     \u001b[0mX\u001b[0m \u001b[1;33m=\u001b[0m \u001b[0mcheck_array\u001b[0m\u001b[1;33m(\u001b[0m\u001b[0mX\u001b[0m\u001b[1;33m,\u001b[0m \u001b[0maccept_sparse\u001b[0m\u001b[1;33m=\u001b[0m\u001b[1;34m'csr'\u001b[0m\u001b[1;33m)\u001b[0m\u001b[1;33m\u001b[0m\u001b[1;33m\u001b[0m\u001b[0m\n\u001b[0;32m    215\u001b[0m     \u001b[1;32mif\u001b[0m \u001b[0mnp\u001b[0m\u001b[1;33m.\u001b[0m\u001b[0many\u001b[0m\u001b[1;33m(\u001b[0m\u001b[1;33m(\u001b[0m\u001b[0mX\u001b[0m\u001b[1;33m.\u001b[0m\u001b[0mdata\u001b[0m \u001b[1;32mif\u001b[0m \u001b[0missparse\u001b[0m\u001b[1;33m(\u001b[0m\u001b[0mX\u001b[0m\u001b[1;33m)\u001b[0m \u001b[1;32melse\u001b[0m \u001b[0mX\u001b[0m\u001b[1;33m)\u001b[0m \u001b[1;33m<\u001b[0m \u001b[1;36m0\u001b[0m\u001b[1;33m)\u001b[0m\u001b[1;33m:\u001b[0m\u001b[1;33m\u001b[0m\u001b[1;33m\u001b[0m\u001b[0m\n\u001b[1;32m--> 216\u001b[1;33m         \u001b[1;32mraise\u001b[0m \u001b[0mValueError\u001b[0m\u001b[1;33m(\u001b[0m\u001b[1;34m\"Input X must be non-negative.\"\u001b[0m\u001b[1;33m)\u001b[0m\u001b[1;33m\u001b[0m\u001b[1;33m\u001b[0m\u001b[0m\n\u001b[0m\u001b[0;32m    217\u001b[0m \u001b[1;33m\u001b[0m\u001b[0m\n\u001b[0;32m    218\u001b[0m     \u001b[0mY\u001b[0m \u001b[1;33m=\u001b[0m \u001b[0mLabelBinarizer\u001b[0m\u001b[1;33m(\u001b[0m\u001b[1;33m)\u001b[0m\u001b[1;33m.\u001b[0m\u001b[0mfit_transform\u001b[0m\u001b[1;33m(\u001b[0m\u001b[0my\u001b[0m\u001b[1;33m)\u001b[0m\u001b[1;33m\u001b[0m\u001b[1;33m\u001b[0m\u001b[0m\n",
      "\u001b[1;31mValueError\u001b[0m: Input X must be non-negative."
     ]
    }
   ],
   "source": [
    "from sklearn.feature_selection import SelectKBest, chi2\n",
    "X = tarain.loc[:, tarain.columns != 'status_group']\n",
    "y = tarain['status_group']\n",
    "\n",
    "\n",
    "chi2_selector = SelectKBest(score_func=chi2).fit(X,y)\n",
    "\n",
    "# Get the indices sorted by most important to least important\n",
    "indices = np.argsort(chi2_selector.scores_)[::-1]\n",
    "\n",
    "chi2_features = []\n",
    "for i in range(len(X.columns)):\n",
    "    chi2_features.append(X.columns[indices[i]])\n",
    "\n",
    "# Now plot\n",
    "plt.figure(figsize=(10,10))\n",
    "plt.yticks(rotation='horizontal',fontsize=16)\n",
    "plt.barh(chi2_features, chi2_selector.scores_[indices[range(len(X.columns))]], color='r', align='center')\n",
    "plt.gca().invert_yaxis()\n",
    "plt.show()"
   ]
  },
  {
   "cell_type": "code",
   "execution_count": null,
   "metadata": {},
   "outputs": [],
   "source": []
  },
  {
   "cell_type": "code",
   "execution_count": null,
   "metadata": {},
   "outputs": [],
   "source": []
  },
  {
   "cell_type": "code",
   "execution_count": null,
   "metadata": {},
   "outputs": [],
   "source": []
  },
  {
   "cell_type": "markdown",
   "metadata": {},
   "source": []
  },
  {
   "cell_type": "markdown",
   "metadata": {},
   "source": []
  }
 ],
 "metadata": {
  "kernelspec": {
   "display_name": "Python 3",
   "language": "python",
   "name": "python3"
  },
  "language_info": {
   "codemirror_mode": {
    "name": "ipython",
    "version": 3
   },
   "file_extension": ".py",
   "mimetype": "text/x-python",
   "name": "python",
   "nbconvert_exporter": "python",
   "pygments_lexer": "ipython3",
   "version": "3.7.4"
  }
 },
 "nbformat": 4,
 "nbformat_minor": 2
}
